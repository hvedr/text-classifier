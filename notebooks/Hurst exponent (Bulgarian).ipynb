{
 "cells": [
  {
   "cell_type": "code",
   "execution_count": 1,
   "metadata": {
    "collapsed": true
   },
   "outputs": [],
   "source": [
    "import pandas as pd\n",
    "import numpy as np\n",
    "import matplotlib.pylab as plt\n",
    "import seaborn as sns\n",
    "%matplotlib inline\n",
    "from textutils import TextProcessor"
   ]
  },
  {
   "cell_type": "code",
   "execution_count": 2,
   "metadata": {
    "collapsed": false
   },
   "outputs": [
    {
     "name": "stdout",
     "output_type": "stream",
     "text": [
      "Try to preprocess documents in wiki_data\n",
      "\t---> wiki_data/bulgarian(ru).txt\n",
      "Files are successfully processed to wiki_data/processed\n",
      "CPU times: user 4min 1s, sys: 25.3 s, total: 4min 26s\n",
      "Wall time: 4min 40s\n"
     ]
    }
   ],
   "source": [
    "%time TextProcessor.preprocess_folder('wiki_data/bulgarian', lang='ru_con', join=False)"
   ]
  },
  {
   "cell_type": "code",
   "execution_count": 88,
   "metadata": {
    "collapsed": true
   },
   "outputs": [],
   "source": [
    "with open('wiki_data/bulgarian/processed/all.txt', 'r') as processed_file:\n",
    "    bulgarian_all = processed_file.read().replace('\\n', '').decode('utf-8')"
   ]
  },
  {
   "cell_type": "code",
   "execution_count": 85,
   "metadata": {
    "collapsed": false
   },
   "outputs": [
    {
     "name": "stdout",
     "output_type": "stream",
     "text": [
      "Длина документа: 136528535\n",
      "\n",
      "гргрнскклндргргрнсктклндрпнкгнрчнгргрнскклндрнвстлсъврмннтмжднрднпрзнтсвтскклндрнкйтсснввмжднрднтстндртгргрнсктклндрвъвднвптрбнктмвргвсътвтствсблтфврргнппгргрйчтмнсднстйппрвдрвнрмсклнскклндрктвнгсннсннккркцздстчтптчндължнтнтрпчсктгднвлнскклндрспрмчврмтмжддвпслдвтлнпрлтнрвнднствдндрбнтчстскмпнсрктдннвскчтргднмсднднпвчвскснгднпргргрнскклндргднткртнннсвскснсзклчннгднткртннтнвскчтрвкспрпскттрвскснгднктнпрмргднктдвсрднпрдължтлнстнгднттднтзстйнстсдблжвзнчтлндпрдължтлнсттнтрпчсктгдннпрмрврмтмждпрлтнтрвнднствпрзгднднгргрнсктклндрвъзпртврзлчнтстрнпрзлчнврмкттзпрцспрдължвпчттрвкплвнвъвднвбългрсъсзкнглсвнтнрднтсъбрннмртгкттчтнтнврмтднствнпнвстлзпчвтпрлгспрдлнскклндрпрлспрдгргрнскклндргргрнсктклндрслънчвклндрзвсмтпрднзвъртнтнзмтклслънцткйтднтчспмнтвскпскндсрднттрпчскгднднчсмнтскндтвррслбсднддвмнтвзвсмсттнчлнттчктчнтстйнстзчслнннргднднсрднтгднпргргрнскклндрднздмжбртнгдшнтдндцлчслпрзпрдлнпрднйчстгднсдбвдндпълнтлнднфврргднтснрчвскснтткслдврзпрдлнтнвскснтгднгргрнсктклндрсдлнмсцпслдннчнвскпрдтсдмднскзв\n"
     ]
    }
   ],
   "source": [
    "print \"Длина документа: \" + str(len(bulgarian_all))\n",
    "print\n",
    "print bulgarian_all[:1000]"
   ]
  },
  {
   "cell_type": "code",
   "execution_count": 89,
   "metadata": {
    "collapsed": false
   },
   "outputs": [],
   "source": [
    "from textutils import TextUtils\n",
    "\n",
    "normalized_dict = TextUtils.get_normalized_dict (\n",
    "    TextUtils.get_n_gram_dict(bulgarian_all.encode('utf-8'), 1, lang='ru_con')\n",
    ")\n",
    "ordered_dict = TextUtils.get_ordered_dict(normalized_dict, by='value', reverse=True)"
   ]
  },
  {
   "cell_type": "code",
   "execution_count": 90,
   "metadata": {
    "collapsed": true
   },
   "outputs": [],
   "source": [
    "def draw__ordered_dict(dct, size=(10, 8)):\n",
    "    non_zero_items = np.array(dct)[:,0]\n",
    "    non_zero_values = np.array(ordered_dict)[:,1].astype(np.float64)\n",
    "    \n",
    "    plt.figure(figsize=size)\n",
    "    ax = sns.barplot(x=non_zero_items, y=non_zero_values, color=\"#666699\")\n",
    "    \n",
    "    ax.set_ylabel('Probabilities')\n",
    "    ax.set_title('Text symbols distribution')\n",
    "    ax.set_xticklabels(non_zero_items)\n",
    "    \n",
    "    plt.show()"
   ]
  },
  {
   "cell_type": "code",
   "execution_count": 91,
   "metadata": {
    "collapsed": false
   },
   "outputs": [
    {
     "data": {
      "image/png": "[encoded data removed]",
      "text/plain": [
       "<matplotlib.figure.Figure at 0x1135d37d0>"
      ]
     },
     "metadata": {},
     "output_type": "display_data"
    }
   ],
   "source": [
    "draw__ordered_dict(ordered_dict, (10, 5))"
   ]
  },
  {
   "cell_type": "markdown",
   "metadata": {},
   "source": [
    "#### Caculate Hurst values for 'н' letter"
   ]
  },
  {
   "cell_type": "code",
   "execution_count": 103,
   "metadata": {
    "collapsed": false
   },
   "outputs": [],
   "source": [
    "from textutils import HurstExponent\n",
    "hurst = HurstExponent(bulgarian_all, u'н')"
   ]
  },
  {
   "cell_type": "code",
   "execution_count": 104,
   "metadata": {
    "collapsed": false
   },
   "outputs": [
    {
     "data": {
      "text/plain": [
       "17733133"
      ]
     },
     "execution_count": 104,
     "metadata": {},
     "output_type": "execute_result"
    }
   ],
   "source": [
    "len(hurst.distances)"
   ]
  },
  {
   "cell_type": "code",
   "execution_count": 105,
   "metadata": {
    "collapsed": false
   },
   "outputs": [
    {
     "name": "stdout",
     "output_type": "stream",
     "text": [
      "CPU times: user 37min 43s, sys: 4.76 s, total: 37min 48s\n",
      "Wall time: 18h 16min 17s\n"
     ]
    }
   ],
   "source": [
    "%time hurst.calculate(10000)"
   ]
  },
  {
   "cell_type": "code",
   "execution_count": 106,
   "metadata": {
    "collapsed": false
   },
   "outputs": [
    {
     "data": {
      "text/plain": [
       "(array([   9.,   24.,   56.,  114.,  198.,  265.,  283.,  267.,  214.,\n",
       "         149.,   88.,   64.,   24.,   11.,    3.,    2.,    0.,    0.,\n",
       "           1.,    1.]),\n",
       " array([ 0.29058185,  0.33120842,  0.37183499,  0.41246156,  0.45308813,\n",
       "         0.4937147 ,  0.53434127,  0.57496784,  0.61559441,  0.65622099,\n",
       "         0.69684756,  0.73747413,  0.7781007 ,  0.81872727,  0.85935384,\n",
       "         0.89998041,  0.94060698,  0.98123355,  1.02186012,  1.06248669,\n",
       "         1.10311326]),\n",
       " <a list of 20 Patch objects>)"
      ]
     },
     "execution_count": 106,
     "metadata": {},
     "output_type": "execute_result"
    },
    {
     "data": {
      "image/png": "[encoded data removed]",
      "text/plain": [
       "<matplotlib.figure.Figure at 0x113562bd0>"
      ]
     },
     "metadata": {},
     "output_type": "display_data"
    }
   ],
   "source": [
    "plt.hist(hurst.hurst_values, 20)"
   ]
  },
  {
   "cell_type": "code",
   "execution_count": 107,
   "metadata": {
    "collapsed": true
   },
   "outputs": [],
   "source": [
    "with open('hurst_values/bulgarian.txt', 'w') as outfile:\n",
    "    for v in hurst.hurst_values:\n",
    "        outfile.write(str(v) + '\\n')"
   ]
  },
  {
   "cell_type": "code",
   "execution_count": null,
   "metadata": {
    "collapsed": true
   },
   "outputs": [],
   "source": []
  }
 ],
 "metadata": {
  "kernelspec": {
   "display_name": "Python 2",
   "language": "python",
   "name": "python2"
  },
  "language_info": {
   "codemirror_mode": {
    "name": "ipython",
    "version": 2
   },
   "file_extension": ".py",
   "mimetype": "text/x-python",
   "name": "python",
   "nbconvert_exporter": "python",
   "pygments_lexer": "ipython2",
   "version": "2.7.12"
  }
 },
 "nbformat": 4,
 "nbformat_minor": 1
}
