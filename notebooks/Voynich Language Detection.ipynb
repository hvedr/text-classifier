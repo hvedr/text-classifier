{
 "cells": [
  {
   "cell_type": "code",
   "execution_count": 1,
   "metadata": {
    "collapsed": true
   },
   "outputs": [],
   "source": [
    "import numpy as np\n",
    "import pandas as pd\n",
    "import matplotlib.pylab as plt\n",
    "import seaborn as sns\n",
    "%matplotlib inline\n",
    "\n",
    "from textutils import TextUtils"
   ]
  },
  {
   "cell_type": "markdown",
   "metadata": {},
   "source": [
    "### Check an accuracy of language prediction based on symbols distribution "
   ]
  },
  {
   "cell_type": "code",
   "execution_count": 2,
   "metadata": {
    "collapsed": false
   },
   "outputs": [
    {
     "data": {
      "text/plain": [
       "['bulgarian(ru).txt',\n",
       " 'croatian(hr).txt',\n",
       " 'czech(cs).txt',\n",
       " 'danish(da).txt',\n",
       " 'dutch(en).txt',\n",
       " 'english(en).txt',\n",
       " 'french(fr).txt',\n",
       " 'german(de).txt',\n",
       " 'italian(it).txt',\n",
       " 'norwegian(da).txt',\n",
       " 'polish(pl).txt',\n",
       " 'romanian(ro).txt',\n",
       " 'serbian(sr).txt',\n",
       " 'spanish(es).txt',\n",
       " 'swedish(sv).txt']"
      ]
     },
     "execution_count": 2,
     "metadata": {},
     "output_type": "execute_result"
    }
   ],
   "source": [
    "languages = !ls 'wiki_data/processed/'\n",
    "languages"
   ]
  },
  {
   "cell_type": "code",
   "execution_count": 59,
   "metadata": {
    "collapsed": false
   },
   "outputs": [
    {
     "name": "stdout",
     "output_type": "stream",
     "text": [
      "bulgarian language processed\n",
      "croatian language processed\n",
      "czech language processed\n",
      "danish language processed\n",
      "dutch language processed\n",
      "english language processed\n",
      "french language processed\n",
      "german language processed\n",
      "italian language processed\n",
      "norwegian language processed\n",
      "polish language processed\n",
      "romanian language processed\n",
      "serbian language processed\n",
      "spanish language processed\n",
      "swedish language processed\n",
      "CPU times: user 13min 15s, sys: 20.6 s, total: 13min 35s\n",
      "Wall time: 14min 45s\n"
     ]
    }
   ],
   "source": [
    "%%time\n",
    "langs_dicts = {}\n",
    "\n",
    "for lang in languages:\n",
    "    lang_name = lang[:-8]\n",
    "    lang_acr = lang[-7:-5]\n",
    "\n",
    "    with open('wiki_data/processed/' + lang, 'r') as processed_file:\n",
    "        text = processed_file.read().replace('\\n', '').decode('utf-8')\n",
    "\n",
    "    normalized_dict = TextUtils.get_normalized_dict (\n",
    "        TextUtils.get_n_gram_dict(text.encode('utf-8'), 1, lang=lang_acr + '_con')\n",
    "    )\n",
    "    ordered_dict = TextUtils.get_ordered_dict(normalized_dict, by='value', reverse=True)\n",
    "\n",
    "    langs_dicts[lang_name] = ordered_dict\n",
    "\n",
    "    print lang_name, 'language processed'"
   ]
  },
  {
   "cell_type": "code",
   "execution_count": 142,
   "metadata": {
    "collapsed": false
   },
   "outputs": [],
   "source": [
    "def generate_text_subsamples(n_subsamples = 100, window = 5000):\n",
    "    data = pd.DataFrame(\n",
    "        columns=['dict', 'lang', 'lang_predicted', 'guessed']\n",
    "    )\n",
    "\n",
    "    for lang in languages:\n",
    "        lang_name = lang[:-8]\n",
    "        lang_acr = lang[-7:-5]\n",
    "\n",
    "        with open('wiki_data/processed/' + lang, 'r') as processed_file:\n",
    "            text = processed_file.read().replace('\\n', '').decode('utf-8')\n",
    "\n",
    "        for i in range(n_subsamples):\n",
    "            number_from = np.random.randint(0, high=len(text)-2*window)\n",
    "            text_sm = text[number_from:number_from + window]\n",
    "\n",
    "            normalized_dict_sm = TextUtils.get_normalized_dict (\n",
    "                TextUtils.get_n_gram_dict(text_sm.encode('utf-8'), 1, lang=lang_acr + '_con')\n",
    "            )\n",
    "            ordered_dict_sm = TextUtils.get_ordered_dict(normalized_dict_sm, by='value', reverse=True)\n",
    "\n",
    "            data.loc[len(data)-1] = [ordered_dict_sm, lang_name, '', 0]\n",
    "\n",
    "    data.reset_index(drop=True, inplace=True)\n",
    "    data.guessed = data.guessed.astype(np.int16)\n",
    "    return data\n",
    "\n",
    "def predict_text_language(distr_dict):\n",
    "    minimum_dist = np.inf\n",
    "    predicted_lang = ''\n",
    "    item = np.array(distr_dict)[:,1].astype(np.float64)    \n",
    "    \n",
    "    for lang in langs_dicts:\n",
    "        corpus = np.array(langs_dicts[lang])[:,1].astype(np.float64)\n",
    "        l1_dist = TextUtils.l1_distance(corpus, item)\n",
    "        if l1_dist < minimum_dist:\n",
    "            minimum_dist = l1_dist\n",
    "            predicted_lang = lang\n",
    "\n",
    "    return predicted_lang"
   ]
  },
  {
   "cell_type": "code",
   "execution_count": 133,
   "metadata": {
    "collapsed": false
   },
   "outputs": [
    {
     "name": "stdout",
     "output_type": "stream",
     "text": [
      "CPU times: user 15.4 s, sys: 6.86 s, total: 22.2 s\n",
      "Wall time: 23.2 s\n"
     ]
    }
   ],
   "source": [
    "%%time\n",
    "text_subsamples = generate_text_subsamples(n_subsamples=100, window=5000)\n",
    "text_subsamples['lang_predicted'] = text_subsamples['dict'].apply(predict_text_language)\n",
    "text_subsamples.guessed = text_subsamples.apply(lambda row: 1 if row['lang'] == row['lang_predicted'] else 0, axis=1)"
   ]
  },
  {
   "cell_type": "code",
   "execution_count": 134,
   "metadata": {
    "collapsed": false
   },
   "outputs": [
    {
     "data": {
      "text/html": [
       "<div>\n",
       "<table border=\"1\" class=\"dataframe\">\n",
       "  <thead>\n",
       "    <tr style=\"text-align: right;\">\n",
       "      <th></th>\n",
       "      <th>dict</th>\n",
       "      <th>lang</th>\n",
       "      <th>lang_predicted</th>\n",
       "      <th>guessed</th>\n",
       "    </tr>\n",
       "  </thead>\n",
       "  <tbody>\n",
       "    <tr>\n",
       "      <th>0</th>\n",
       "      <td>[(т, 0.1392), (н, 0.133), (с, 0.0918), (р, 0.0...</td>\n",
       "      <td>bulgarian</td>\n",
       "      <td>bulgarian</td>\n",
       "      <td>1</td>\n",
       "    </tr>\n",
       "    <tr>\n",
       "      <th>1</th>\n",
       "      <td>[(т, 0.129), (н, 0.1246), (с, 0.0942), (р, 0.0...</td>\n",
       "      <td>bulgarian</td>\n",
       "      <td>bulgarian</td>\n",
       "      <td>1</td>\n",
       "    </tr>\n",
       "    <tr>\n",
       "      <th>2</th>\n",
       "      <td>[(т, 0.115), (н, 0.1064), (р, 0.0974), (с, 0.0...</td>\n",
       "      <td>bulgarian</td>\n",
       "      <td>croatian</td>\n",
       "      <td>0</td>\n",
       "    </tr>\n",
       "    <tr>\n",
       "      <th>3</th>\n",
       "      <td>[(т, 0.1394), (н, 0.1354), (с, 0.0896), (р, 0....</td>\n",
       "      <td>bulgarian</td>\n",
       "      <td>bulgarian</td>\n",
       "      <td>1</td>\n",
       "    </tr>\n",
       "    <tr>\n",
       "      <th>4</th>\n",
       "      <td>[(т, 0.1304), (н, 0.1304), (с, 0.0958), (р, 0....</td>\n",
       "      <td>bulgarian</td>\n",
       "      <td>bulgarian</td>\n",
       "      <td>1</td>\n",
       "    </tr>\n",
       "  </tbody>\n",
       "</table>\n",
       "</div>"
      ],
      "text/plain": [
       "                                                dict       lang  \\\n",
       "0  [(т, 0.1392), (н, 0.133), (с, 0.0918), (р, 0.0...  bulgarian   \n",
       "1  [(т, 0.129), (н, 0.1246), (с, 0.0942), (р, 0.0...  bulgarian   \n",
       "2  [(т, 0.115), (н, 0.1064), (р, 0.0974), (с, 0.0...  bulgarian   \n",
       "3  [(т, 0.1394), (н, 0.1354), (с, 0.0896), (р, 0....  bulgarian   \n",
       "4  [(т, 0.1304), (н, 0.1304), (с, 0.0958), (р, 0....  bulgarian   \n",
       "\n",
       "  lang_predicted  guessed  \n",
       "0      bulgarian        1  \n",
       "1      bulgarian        1  \n",
       "2       croatian        0  \n",
       "3      bulgarian        1  \n",
       "4      bulgarian        1  "
      ]
     },
     "execution_count": 134,
     "metadata": {},
     "output_type": "execute_result"
    }
   ],
   "source": [
    "text_subsamples.head()"
   ]
  },
  {
   "cell_type": "code",
   "execution_count": 135,
   "metadata": {
    "collapsed": false
   },
   "outputs": [
    {
     "name": "stdout",
     "output_type": "stream",
     "text": [
      "Percentage of guessed languages\n"
     ]
    },
    {
     "data": {
      "text/plain": [
       "0.78466666666666662"
      ]
     },
     "execution_count": 135,
     "metadata": {},
     "output_type": "execute_result"
    }
   ],
   "source": [
    "print 'Percentage of guessed languages'\n",
    "text_subsamples.guessed.sum() / float(len(text_subsamples))"
   ]
  },
  {
   "cell_type": "markdown",
   "metadata": {},
   "source": [
    "Эксперимент показывает различные значения вероятности определения языка фрагмента в зависимости от длины этого фрагмента\n",
    "```\n",
    "0.53, window_size = 2500\n",
    "0.80, window_size = 5000\n",
    "0.88, window_size = 10000\n",
    "0.94, window_size = 25000\n",
    "```\n",
    "Более точную зависимость можно посмотреть на графике"
   ]
  },
  {
   "cell_type": "code",
   "execution_count": 143,
   "metadata": {
    "collapsed": false
   },
   "outputs": [
    {
     "name": "stdout",
     "output_type": "stream",
     "text": [
      "CPU times: user 6min 46s, sys: 1min 48s, total: 8min 35s\n",
      "Wall time: 8min 41s\n"
     ]
    }
   ],
   "source": [
    "%%time\n",
    "window_sizes = range(2500, 50000, 2500)\n",
    "probas = []\n",
    "\n",
    "for window in window_sizes:\n",
    "    text_subsamples = generate_text_subsamples(n_subsamples=100, window=window)\n",
    "    text_subsamples['lang_predicted'] = text_subsamples['dict'].apply(predict_text_language)\n",
    "    text_subsamples.guessed = text_subsamples.apply(lambda row: 1 if row['lang'] == row['lang_predicted'] else 0, axis=1)\n",
    "    probas.append(text_subsamples.guessed.sum() / float(len(text_subsamples)))"
   ]
  },
  {
   "cell_type": "code",
   "execution_count": 144,
   "metadata": {
    "collapsed": false
   },
   "outputs": [
    {
     "data": {
      "image/png": "[encoded data removed]",
      "text/plain": [
       "<matplotlib.figure.Figure at 0x119083890>"
      ]
     },
     "metadata": {},
     "output_type": "display_data"
    }
   ],
   "source": [
    "plt.title('Probability to predict text fragment language')\n",
    "plt.xlabel('Text fragment (window) size')\n",
    "plt.ylabel('Probability')\n",
    "plt.plot(window_sizes, probas)\n",
    "plt.show()"
   ]
  },
  {
   "cell_type": "markdown",
   "metadata": {},
   "source": [
    "### Test Takahashi transcription"
   ]
  },
  {
   "cell_type": "code",
   "execution_count": 145,
   "metadata": {
    "collapsed": true
   },
   "outputs": [],
   "source": [
    "with open('data/takahashi_processed.txt', 'r') as processed_file:\n",
    "    takahashi = processed_file.read().decode('utf-8')"
   ]
  },
  {
   "cell_type": "code",
   "execution_count": 161,
   "metadata": {
    "collapsed": false
   },
   "outputs": [
    {
     "name": "stdout",
     "output_type": "stream",
     "text": [
      "191545\n",
      "fachysykalarataiinsholshorycthresykorsholdysoryckharorykairchtaiinshararectharcthardansyaiirshekyorykaiinshodcthoarycthesdaraiinsaooiinoteeyoteosrolotycthardaiinotaiinorokandairychearcthaiincpharcfhaiinydaraishyodaroysholcphoyoydarshscfhoaiinshodaryysheyshodyokchoyotcholchocthyoschydainchorkosdaiinshoscfholshodydainosteodyydaincphesaiinolscpheyytainshoshycphodalesokshokshoyotairinoteolokanshodainsckheydaiinshoyckheykodaiincphycphodaiilsctheysheoldainddainoiincholodaiinchodainchdyokaindancthykoddaiinshckheyckeorchorsheykolcholcholkorchalshocholshodankshykchydorchodaiinshokchomychotcheychokainsheopsholdydydcthydaicthyytosholshekodsheycphealydasaindainckhydsdcharshcthaiinokaiircheyrchypotolctholsdloctashokchorcheydainckheyotoldaiiincphoshaiinshokcheeycholtshodeesysheypydeeychyroddoincholdaincthaldarshearkaiindarsheyctharchookaiinshoaiinokoldaiinfarctholdaiinctholdarycheeyokayokydaiinokcheykokaiincholkchydaldeeoshodykosheycthyokcheykeeykeeydalchtoreocholchokchotychoteydchaiinkchsychadaiino\n"
     ]
    }
   ],
   "source": [
    "print len(takahashi)\n",
    "print takahashi[:1000]"
   ]
  },
  {
   "cell_type": "code",
   "execution_count": 150,
   "metadata": {
    "collapsed": false
   },
   "outputs": [],
   "source": [
    "takahashi_symbols = {}\n",
    "for sym in takahashi:\n",
    "    if sym not in takahashi_symbols:\n",
    "        takahashi_symbols[sym] = 1\n",
    "    else:\n",
    "        takahashi_symbols[sym] += 1\n",
    "\n",
    "normalized_tak = TextUtils.get_normalized_dict(takahashi_symbols)\n",
    "ordered_tak = TextUtils.get_ordered_dict(normalized_tak, by='value', reverse=True)"
   ]
  },
  {
   "cell_type": "code",
   "execution_count": 184,
   "metadata": {
    "collapsed": false
   },
   "outputs": [
    {
     "name": "stdout",
     "output_type": "stream",
     "text": [
      "22\n"
     ]
    },
    {
     "data": {
      "text/plain": [
       "[(u'o', 0.1329609230207001),\n",
       " (u'e', 0.1047795557179775),\n",
       " (u'h', 0.09322091414550106),\n",
       " (u'y', 0.0921715523767261),\n",
       " (u'a', 0.07455689263619515),\n",
       " (u'c', 0.0695084705943773),\n",
       " (u'd', 0.06772821008118196),\n",
       " (u'i', 0.06124931478242711),\n",
       " (u'k', 0.05708319193923099),\n",
       " (u'l', 0.05491137852723903),\n",
       " (u'r', 0.03892557884570205),\n",
       " (u's', 0.03856535017880916),\n",
       " (u't', 0.03625257772325041),\n",
       " (u'n', 0.03206035135346785),\n",
       " (u'q', 0.028311884935654806),\n",
       " (u'p', 0.008509749667180036),\n",
       " (u'm', 0.005826307134093816),\n",
       " (u'f', 0.002636456185230625),\n",
       " (u'g', 0.0005011877104596831),\n",
       " (u'x', 0.0001827246861050928),\n",
       " (u'v', 4.698634785559529e-05),\n",
       " (u'z', 1.0441410634576732e-05)]"
      ]
     },
     "execution_count": 184,
     "metadata": {},
     "output_type": "execute_result"
    }
   ],
   "source": [
    "print len(ordered_tak)\n",
    "ordered_tak"
   ]
  },
  {
   "cell_type": "markdown",
   "metadata": {},
   "source": [
    "Пойдем по транскрипции Такахаши с плавающим окном размера 30000 символов (оптимальное значение для стабильного качества предсказания языка) и шагом 1000 символов (примерно 1 страница). Попробуем определить момент смены языка и посмотреть вообще, какие языки наиболее вероятны для этой транскрипции."
   ]
  },
  {
   "cell_type": "code",
   "execution_count": 177,
   "metadata": {
    "collapsed": false
   },
   "outputs": [],
   "source": [
    "window_size = 30000\n",
    "takahashi_languages = []\n",
    "\n",
    "for i in range(0, len(takahashi) - window_size, 1000):\n",
    "    \n",
    "    current_frame = takahashi[i:i + window_size]\n",
    "    current_dict = {}\n",
    "\n",
    "    for sym in current_frame:\n",
    "        if sym not in current_dict:\n",
    "            current_dict[sym] = 1\n",
    "        else:\n",
    "            current_dict[sym] += 1\n",
    "\n",
    "    current_norm_dict = TextUtils.get_normalized_dict(current_dict)\n",
    "    current_ordered_dict = TextUtils.get_ordered_dict(current_norm_dict, by='value', reverse=True)\n",
    "    takahashi_languages.append(predict_text_language(current_ordered_dict))"
   ]
  },
  {
   "cell_type": "code",
   "execution_count": 185,
   "metadata": {
    "collapsed": false
   },
   "outputs": [
    {
     "name": "stdout",
     "output_type": "stream",
     "text": [
      "['english', 'english', 'english', 'english', 'english', 'english', 'english', 'english', 'english', 'english', 'english', 'english', 'english', 'bulgarian', 'bulgarian', 'bulgarian', 'bulgarian', 'bulgarian', 'bulgarian', 'english', 'english', 'english', 'croatian', 'croatian', 'croatian', 'croatian', 'croatian', 'serbian', 'serbian', 'croatian', 'croatian', 'danish', 'danish', 'danish', 'danish', 'danish', 'croatian', 'danish', 'danish', 'english', 'croatian', 'english', 'english', 'english', 'english', 'english', 'english', 'english', 'english', 'english', 'bulgarian', 'bulgarian', 'bulgarian', 'bulgarian', 'bulgarian', 'bulgarian', 'bulgarian', 'bulgarian', 'bulgarian', 'bulgarian', 'bulgarian', 'bulgarian', 'bulgarian', 'english', 'english', 'english', 'english', 'english', 'english', 'english', 'english', 'english', 'danish', 'english', 'english', 'danish', 'danish', 'danish', 'danish', 'bulgarian', 'bulgarian', 'bulgarian', 'serbian', 'czech', 'czech', 'serbian', 'serbian', 'serbian', 'serbian', 'serbian', 'serbian', 'croatian', 'croatian', 'croatian', 'croatian', 'croatian', 'czech', 'czech', 'czech', 'croatian', 'croatian', 'croatian', 'croatian', 'serbian', 'serbian', 'serbian', 'serbian', 'serbian', 'croatian', 'croatian', 'croatian', 'croatian', 'croatian', 'serbian', 'serbian', 'english', 'english', 'english', 'english', 'serbian', 'english', 'english', 'serbian', 'serbian', 'english', 'english', 'english', 'english', 'czech', 'croatian', 'croatian', 'bulgarian', 'bulgarian', 'bulgarian', 'croatian', 'croatian', 'croatian', 'croatian', 'croatian', 'croatian', 'croatian', 'croatian', 'croatian', 'croatian', 'croatian', 'croatian', 'croatian', 'croatian', 'croatian', 'croatian', 'croatian', 'croatian', 'croatian', 'croatian', 'croatian', 'croatian', 'english', 'english', 'english', 'english', 'croatian', 'croatian']\n"
     ]
    }
   ],
   "source": [
    "print takahashi_languages"
   ]
  },
  {
   "cell_type": "code",
   "execution_count": 179,
   "metadata": {
    "collapsed": false
   },
   "outputs": [
    {
     "data": {
      "text/plain": [
       "{'bulgarian', 'croatian', 'czech', 'danish', 'english', 'serbian'}"
      ]
     },
     "execution_count": 179,
     "metadata": {},
     "output_type": "execute_result"
    }
   ],
   "source": [
    "set(takahashi_languages)"
   ]
  },
  {
   "cell_type": "code",
   "execution_count": 181,
   "metadata": {
    "collapsed": false
   },
   "outputs": [],
   "source": [
    "takahashi_langs_dict = {}\n",
    "for lang in takahashi_languages:\n",
    "    if lang not in takahashi_langs_dict:\n",
    "        takahashi_langs_dict[lang] = 1\n",
    "    else:\n",
    "        takahashi_langs_dict[lang] += 1"
   ]
  },
  {
   "cell_type": "code",
   "execution_count": 182,
   "metadata": {
    "collapsed": false
   },
   "outputs": [
    {
     "data": {
      "text/plain": [
       "[('english', 51),\n",
       " ('croatian', 49),\n",
       " ('bulgarian', 25),\n",
       " ('serbian', 19),\n",
       " ('danish', 12),\n",
       " ('czech', 6)]"
      ]
     },
     "execution_count": 182,
     "metadata": {},
     "output_type": "execute_result"
    }
   ],
   "source": [
    "TextUtils.get_ordered_dict(takahashi_langs_dict, by='value', reverse=True)"
   ]
  },
  {
   "cell_type": "markdown",
   "metadata": {},
   "source": [
    "Видно, что преимущественно транскрипция Такахаши по распределению символов ближе к тексту, написанному на английском и хорватском языке. Попробуем посмотреть, а насколько по L1 расстоянию отличается фрагмент транскрипции, определенный как английский текст, от истинного английского, а также, насколько отличается истинно-английский фрагмент от распределения всего анлийского текста. Предположительно, что из-за меньшей детерминации текста манускрипта расстояние между фрагментом транскрипции и языком будет меньше, чем между фрагментом языка и языком."
   ]
  },
  {
   "cell_type": "code",
   "execution_count": 197,
   "metadata": {
    "collapsed": false
   },
   "outputs": [
    {
     "name": "stdout",
     "output_type": "stream",
     "text": [
      "L1-dist: takahashi frame from english language 0.114309752065\n",
      "L1-dist: english frame from english language 0.0636542932842\n"
     ]
    }
   ],
   "source": [
    "# берем первые `window_size` символов. Этот фрагмент предсказан как английский текст\n",
    "takahashi_frame = takahashi[:window_size]\n",
    "frame_dict = {}\n",
    "\n",
    "corpus = np.array(langs_dicts['english'])[:,1].astype(np.float64)\n",
    "\n",
    "for sym in takahashi_frame:\n",
    "    if sym not in frame_dict:\n",
    "        frame_dict[sym] = 1\n",
    "    else:\n",
    "        frame_dict[sym] += 1\n",
    "\n",
    "frame_norm_dict = TextUtils.get_normalized_dict(frame_dict)\n",
    "frame_ordered_dict = TextUtils.get_ordered_dict(frame_norm_dict, by='value', reverse=True)\n",
    "item_tak = np.array(frame_ordered_dict)[:,1].astype(np.float64)\n",
    "\n",
    "print 'L1-dist: takahashi frame from english language', l1_distance_norm(corpus, item_tak)\n",
    "\n",
    "with open('wiki_data/processed/english(en).txt', 'r') as processed_file:\n",
    "    english_frame = processed_file.read().replace('\\n', '').decode('utf-8')[:window_size]\n",
    "\n",
    "english_norm_dict = TextUtils.get_normalized_dict (\n",
    "    TextUtils.get_n_gram_dict(english_frame.encode('utf-8'), 1, lang='en_con')\n",
    ")\n",
    "english_ordered_dict = TextUtils.get_ordered_dict(english_norm_dict, by='value', reverse=True)\n",
    "item_en = np.array(english_ordered_dict)[:,1].astype(np.float64)\n",
    "\n",
    "print 'L1-dist: english frame from english language', l1_distance_norm(corpus, item_en)"
   ]
  },
  {
   "cell_type": "markdown",
   "metadata": {},
   "source": [
    "Расстояния отличаются практически в 2 раза, но тем не менее фрагмент траскрипции Такахаши отличается от остальных языков гораздо сильнее. Убедимся в этом:"
   ]
  },
  {
   "cell_type": "code",
   "execution_count": 199,
   "metadata": {
    "collapsed": false
   },
   "outputs": [
    {
     "name": "stdout",
     "output_type": "stream",
     "text": [
      "L1-dist: takahashi frame from swedish \t\t0.144794989606\n",
      "L1-dist: takahashi frame from danish \t\t0.129431719061\n",
      "L1-dist: takahashi frame from bulgarian \t\t0.123744330507\n",
      "L1-dist: takahashi frame from norwegian \t\t0.151979492689\n",
      "L1-dist: takahashi frame from czech \t\t0.214557755665\n",
      "L1-dist: takahashi frame from romanian \t\t0.211263727899\n",
      "L1-dist: takahashi frame from english \t\t0.114309752065\n",
      "L1-dist: takahashi frame from french \t\t0.241507898348\n",
      "L1-dist: takahashi frame from spanish \t\t0.255231600673\n",
      "L1-dist: takahashi frame from german \t\t0.127664778783\n",
      "L1-dist: takahashi frame from serbian \t\t0.190801882168\n",
      "L1-dist: takahashi frame from dutch \t\t0.180086068952\n",
      "L1-dist: takahashi frame from polish \t\t0.2276445624\n",
      "L1-dist: takahashi frame from italian \t\t0.206400645475\n",
      "L1-dist: takahashi frame from croatian \t\t0.190995409313\n"
     ]
    }
   ],
   "source": [
    "for lang in langs_dicts:\n",
    "    corpus = np.array(langs_dicts[lang])[:,1].astype(np.float64)\n",
    "    print 'L1-dist: takahashi frame from', lang, '\\t\\t', l1_distance_norm(corpus, item_tak)"
   ]
  },
  {
   "cell_type": "markdown",
   "metadata": {},
   "source": [
    "Также интересно увидеть, что фрагмент английского текста имеет аналогичные порядки расстояний со всеми остальными языками"
   ]
  },
  {
   "cell_type": "code",
   "execution_count": 201,
   "metadata": {
    "collapsed": false
   },
   "outputs": [
    {
     "name": "stdout",
     "output_type": "stream",
     "text": [
      "L1-dist: english frame from swedish \t\t0.107910463053\n",
      "L1-dist: english frame from danish \t\t0.110318348836\n",
      "L1-dist: english frame from bulgarian \t\t0.114689390261\n",
      "L1-dist: english frame from norwegian \t\t0.102788443543\n",
      "L1-dist: english frame from czech \t\t0.280244950112\n",
      "L1-dist: english frame from romanian \t\t0.159850500833\n",
      "L1-dist: english frame from english \t\t0.0636542932842\n",
      "L1-dist: english frame from french \t\t0.183794063204\n",
      "L1-dist: english frame from spanish \t\t0.208716973559\n",
      "L1-dist: english frame from german \t\t0.102586652006\n",
      "L1-dist: english frame from serbian \t\t0.218755877617\n",
      "L1-dist: english frame from dutch \t\t0.168701430013\n",
      "L1-dist: english frame from polish \t\t0.293857057643\n",
      "L1-dist: english frame from italian \t\t0.166356734081\n",
      "L1-dist: english frame from croatian \t\t0.227882834411\n"
     ]
    }
   ],
   "source": [
    "for lang in langs_dicts:\n",
    "    corpus = np.array(langs_dicts[lang])[:,1].astype(np.float64)\n",
    "    print 'L1-dist: english frame from', lang, '\\t\\t', l1_distance_norm(corpus, item_en)"
   ]
  },
  {
   "cell_type": "markdown",
   "metadata": {},
   "source": [
    "### Test EVA Transcription "
   ]
  },
  {
   "cell_type": "code",
   "execution_count": null,
   "metadata": {
    "collapsed": true
   },
   "outputs": [],
   "source": []
  }
 ],
 "metadata": {
  "kernelspec": {
   "display_name": "Python 2",
   "language": "python",
   "name": "python2"
  },
  "language_info": {
   "codemirror_mode": {
    "name": "ipython",
    "version": 2
   },
   "file_extension": ".py",
   "mimetype": "text/x-python",
   "name": "python",
   "nbconvert_exporter": "python",
   "pygments_lexer": "ipython2",
   "version": "2.7.12"
  }
 },
 "nbformat": 4,
 "nbformat_minor": 1
}
