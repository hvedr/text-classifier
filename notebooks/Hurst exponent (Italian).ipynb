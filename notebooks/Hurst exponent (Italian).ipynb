{
 "cells": [
  {
   "cell_type": "code",
   "execution_count": 1,
   "metadata": {
    "collapsed": false
   },
   "outputs": [],
   "source": [
    "import pandas as pd\n",
    "import numpy as np\n",
    "import matplotlib.pylab as plt\n",
    "import seaborn as sns\n",
    "%matplotlib inline\n",
    "from textutils import TextProcessor"
   ]
  },
  {
   "cell_type": "code",
   "execution_count": 2,
   "metadata": {
    "collapsed": false
   },
   "outputs": [
    {
     "name": "stdout",
     "output_type": "stream",
     "text": [
      "Try to preprocess documents in wiki_data/italian\n",
      "\t---> wiki_data/italian/all.txt\n",
      "Files are successfully processed to wiki_data/italian/processed\n",
      "CPU times: user 4min 23s, sys: 8.42 s, total: 4min 31s\n",
      "Wall time: 4min 36s\n"
     ]
    }
   ],
   "source": [
    "%time TextProcessor.preprocess_folder('wiki_data/italian', lang='it_con', join=False)"
   ]
  },
  {
   "cell_type": "code",
   "execution_count": 3,
   "metadata": {
    "collapsed": true
   },
   "outputs": [],
   "source": [
    "with open('wiki_data/italian/processed/all.txt', 'r') as processed_file:\n",
    "    italian_all = processed_file.read().replace('\\n', '')"
   ]
  },
  {
   "cell_type": "code",
   "execution_count": 4,
   "metadata": {
    "collapsed": false
   },
   "outputs": [
    {
     "name": "stdout",
     "output_type": "stream",
     "text": [
      "Длина документа: 190097084\n"
     ]
    },
    {
     "data": {
      "text/plain": [
       "'rmnmlrmnmrmnnfrncshrmnmntpdrgncstttdntstrmnlddpdlprznrmntcprlrnfttlrmnmnstrmntsrbtdrlrmnmnltrrntrnllctgrdglstrmntrfndnclbrpchlsnchssprdcdvtdllnclrmnmmdrnsttrlzztddbnffntdmstlcmlrgnlrmnmtlzzttpcmntnchsprlsczndmscscrrgstrdllrmnmsntttdncnclbrlstmbrmltmnrccdqllrgnstccmprlsstnsnsffttmccncsnltrmllvcmnlsrdnnmdllpdffslrvnmmssdllsctrcnlzndpdsdpdlchcmndndmntcprrglrlsprssnstlzznlgncttpstltdllgncchdnrmdspnbllmnnnnchfnznmccncmntsrvprdrrnntggntvllttvqndlnnsndlprmsrvprlprznpbssdlltstrlscndprqllpltrspttvmntsvlgnlznvrslttvbssvrslttvltcsdllltcstdllmntnznspclzztncssrdllrltvdffclrprbltnnchdllvvntdllrgnltrgclttrncglrmnmsnprgrssvmntscmprsdllchsvrmngnntlzztlrmnmndnsmlqllccdntlmdmnrdmnsnsttprttnnddllccdntdmssnrcrstndcrcmtttcntnpssvvnbsgndnstrmntfclmnttrsprtbldsrnllfnznrlgsltrvrnnqsttpdrmnmgrndllncrccmnfsrmncdfnznmntsmllfrmqlldnmblttrttnglrvcnlsntrhntstrtppnfrtchsstndddqttrttvssncnnslmnlltrmnznnmntcsffttpstslltdstntdlsntrlvrsnndnhplpssbltdmttrnfnznncrtnmrdbrdndvrsntcstntdsttfndnnprsntnllmscclsscndnvnzntqllcrrs'"
      ]
     },
     "execution_count": 4,
     "metadata": {},
     "output_type": "execute_result"
    }
   ],
   "source": [
    "print \"Длина документа: \" + str(len(italian_all))\n",
    "italian_all[:1000]"
   ]
  },
  {
   "cell_type": "code",
   "execution_count": 5,
   "metadata": {
    "collapsed": true
   },
   "outputs": [],
   "source": [
    "from textutils import TextUtils\n",
    "\n",
    "normalized_dict = TextUtils.get_normalized_dict (\n",
    "    TextUtils.get_n_gram_dict(italian_all, 1, lang='it_con')\n",
    ")\n",
    "ordered_dict = TextUtils.get_ordered_dict(normalized_dict, by='value', reverse=True)"
   ]
  },
  {
   "cell_type": "code",
   "execution_count": 6,
   "metadata": {
    "collapsed": true
   },
   "outputs": [],
   "source": [
    "def draw__ordered_dict(dct, size=(10, 8)):\n",
    "    non_zero_items = np.array(dct)[:,0].astype(str)\n",
    "    non_zero_values = np.array(ordered_dict)[:,1].astype(np.float64)\n",
    "    \n",
    "    plt.figure(figsize=size)\n",
    "    ax = sns.barplot(x=non_zero_items, y=non_zero_values, color=\"#666699\")\n",
    "    \n",
    "    ax.set_ylabel('Probabilities')\n",
    "    ax.set_title('Text symbols distribution')\n",
    "    ax.set_xticklabels(non_zero_items)\n",
    "    \n",
    "    plt.show()"
   ]
  },
  {
   "cell_type": "code",
   "execution_count": 7,
   "metadata": {
    "collapsed": false
   },
   "outputs": [
    {
     "data": {
      "image/png": "[encoded data removed]",
      "text/plain": [
       "<matplotlib.figure.Figure at 0x102d76690>"
      ]
     },
     "metadata": {},
     "output_type": "display_data"
    }
   ],
   "source": [
    "draw__ordered_dict(ordered_dict, (10, 5))"
   ]
  },
  {
   "cell_type": "markdown",
   "metadata": {},
   "source": [
    "#### Caculate Hurst values for 'n' letter"
   ]
  },
  {
   "cell_type": "code",
   "execution_count": 8,
   "metadata": {
    "collapsed": true
   },
   "outputs": [],
   "source": [
    "from textutils import HurstExponent\n",
    "hurst = HurstExponent(italian_all, 'n')"
   ]
  },
  {
   "cell_type": "code",
   "execution_count": 9,
   "metadata": {
    "collapsed": false
   },
   "outputs": [
    {
     "data": {
      "text/plain": [
       "26197715"
      ]
     },
     "execution_count": 9,
     "metadata": {},
     "output_type": "execute_result"
    }
   ],
   "source": [
    "len(hurst.distances)"
   ]
  },
  {
   "cell_type": "code",
   "execution_count": 10,
   "metadata": {
    "collapsed": false
   },
   "outputs": [
    {
     "name": "stdout",
     "output_type": "stream",
     "text": [
      "CPU times: user 59min 39s, sys: 26.9 s, total: 1h 6s\n",
      "Wall time: 1h 31s\n"
     ]
    }
   ],
   "source": [
    "%time hurst.calculate(10000)"
   ]
  },
  {
   "cell_type": "code",
   "execution_count": 12,
   "metadata": {
    "collapsed": false,
    "scrolled": false
   },
   "outputs": [
    {
     "data": {
      "text/plain": [
       "(array([  14.,   56.,  169.,  319.,  435.,  538.,  439.,  298.,  197.,\n",
       "          80.,   42.,   16.,    9.,    3.,    2.,    0.,    1.,    0.,\n",
       "           0.,    1.]),\n",
       " array([ 0.28765776,  0.33712693,  0.3865961 ,  0.43606526,  0.48553443,\n",
       "         0.5350036 ,  0.58447277,  0.63394194,  0.6834111 ,  0.73288027,\n",
       "         0.78234944,  0.83181861,  0.88128778,  0.93075694,  0.98022611,\n",
       "         1.02969528,  1.07916445,  1.12863362,  1.17810278,  1.22757195,\n",
       "         1.27704112]),\n",
       " <a list of 20 Patch objects>)"
      ]
     },
     "execution_count": 12,
     "metadata": {},
     "output_type": "execute_result"
    },
    {
     "data": {
      "image/png": "[encoded data removed]",
      "text/plain": [
       "<matplotlib.figure.Figure at 0x112637a90>"
      ]
     },
     "metadata": {},
     "output_type": "display_data"
    }
   ],
   "source": [
    "plt.hist(hurst.hurst_values, 20)"
   ]
  },
  {
   "cell_type": "code",
   "execution_count": 14,
   "metadata": {
    "collapsed": true
   },
   "outputs": [],
   "source": [
    "with open('hurst_values/italian.txt', 'w') as outfile:\n",
    "    for v in hurst.hurst_values:\n",
    "        outfile.write(str(v) + '\\n')"
   ]
  },
  {
   "cell_type": "code",
   "execution_count": null,
   "metadata": {
    "collapsed": true
   },
   "outputs": [],
   "source": []
  }
 ],
 "metadata": {
  "kernelspec": {
   "display_name": "Python 2",
   "language": "python",
   "name": "python2"
  },
  "language_info": {
   "codemirror_mode": {
    "name": "ipython",
    "version": 2
   },
   "file_extension": ".py",
   "mimetype": "text/x-python",
   "name": "python",
   "nbconvert_exporter": "python",
   "pygments_lexer": "ipython2",
   "version": "2.7.12"
  }
 },
 "nbformat": 4,
 "nbformat_minor": 1
}
