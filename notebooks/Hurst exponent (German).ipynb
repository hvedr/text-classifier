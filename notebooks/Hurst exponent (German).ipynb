{
 "cells": [
  {
   "cell_type": "code",
   "execution_count": 1,
   "metadata": {
    "collapsed": true
   },
   "outputs": [],
   "source": [
    "import pandas as pd\n",
    "import numpy as np\n",
    "import matplotlib.pylab as plt\n",
    "import seaborn as sns\n",
    "%matplotlib inline\n",
    "from textutils import TextProcessor"
   ]
  },
  {
   "cell_type": "code",
   "execution_count": 2,
   "metadata": {
    "collapsed": false
   },
   "outputs": [
    {
     "name": "stdout",
     "output_type": "stream",
     "text": [
      "Try to preprocess documents in wiki_data/german\n",
      "\t---> wiki_data/german/all.txt\n",
      "Files are successfully processed to wiki_data/german/processed\n",
      "CPU times: user 4min 57s, sys: 8.59 s, total: 5min 6s\n",
      "Wall time: 5min 12s\n"
     ]
    }
   ],
   "source": [
    "%time TextProcessor.preprocess_folder('wiki_data/german', lang='de_con', join=False)"
   ]
  },
  {
   "cell_type": "code",
   "execution_count": 3,
   "metadata": {
    "collapsed": true
   },
   "outputs": [],
   "source": [
    "with open('wiki_data/german/processed/all.txt', 'r') as processed_file:\n",
    "    german_all = processed_file.read().replace('\\n', '')"
   ]
  },
  {
   "cell_type": "code",
   "execution_count": 4,
   "metadata": {
    "collapsed": false
   },
   "outputs": [
    {
     "name": "stdout",
     "output_type": "stream",
     "text": [
      "Длина документа: 226658691\n"
     ]
    },
    {
     "data": {
      "text/plain": [
       "'lnsmthlnsmthsthtlspsdnmfrnnfktvnrgssrdrflmvrntwrttbdnndrgntlchrgssrsnnnmnnchtmtdmwrknvrbndnggbrchthbnmchtvnbswrdsvndrdrctrsgldfmrcdgfrslchsttnnmpfhlnsthrststhmsllnsmthstjdchwtrhnngbrchltrntvschrbwsnsndntrndrmdrsprngsvrntllnsmthswlnsmthnddmsmthchzwtlwsstschnmtndschrbwsnlnsmthndsmshrnghrnsdntrntmvdtbsdzdspsdnmntstndnflgdrrbtnmwstrnflmdthfgnfghtrdtschrttlfrnkptchdnstndnsndgzhltrgssrrbrttttnndhptdrstllrrchrdwdmrkgrtnnnnstrtwrfhndnsgllsnrrgssrngstztwrddrflmtrgnchbschlssdrrbtnnchdtlchtttnshndschrftdrchmhrdrhtglssgldrngrbtthttwshlbdsrdnnnngsnsnmnslsrgssrblhnttttnslbstlhntbrbnfllsblslsngwrdllnsmthlsnmglchstnzgrtgrnmgwhltbdrsptrnvrntlnsmthwrdsngrmmthlsmnvrmtlchknntsthngsgrndndnztgnssschnkrtknwrddrrgssrvnrgrbrtmtdnwrtnglbtkmdprdnlnsmthflmbrnhllwdbrndtschrttlfhrzrhllhllwdndknswsdspsdnmnmgr\\xc3\\x9frnpblkmbknntmchtnchtzltztwlrthrhllrdrgntlchrgssrdsflmsslbstsnnnmnzrckzgndnlgzmflmttldspsdnmlnsmthbntztdrflmgltlsnrdrschlchtstnflmdrrjhrndgwnnfnfgldnhmbrndrflmsprnvstdrrstpstsmthflmdrtfhrtngwssrthmsllswltrhlldr'"
      ]
     },
     "execution_count": 4,
     "metadata": {},
     "output_type": "execute_result"
    }
   ],
   "source": [
    "print \"Длина документа: \" + str(len(german_all))\n",
    "german_all[:1000]"
   ]
  },
  {
   "cell_type": "code",
   "execution_count": 5,
   "metadata": {
    "collapsed": true
   },
   "outputs": [],
   "source": [
    "from textutils import TextUtils\n",
    "\n",
    "normalized_dict = TextUtils.get_normalized_dict (\n",
    "    TextUtils.get_n_gram_dict(german_all, 1, lang='de_con')\n",
    ")\n",
    "ordered_dict = TextUtils.get_ordered_dict(normalized_dict, by='value', reverse=True)"
   ]
  },
  {
   "cell_type": "code",
   "execution_count": 25,
   "metadata": {
    "collapsed": true
   },
   "outputs": [],
   "source": [
    "def draw__ordered_dict(dct, size=(10, 8)):\n",
    "    non_zero_items = np.array(dct)[:,0]\n",
    "    non_zero_values = np.array(ordered_dict)[:,1].astype(np.float64)\n",
    "    \n",
    "    plt.figure(figsize=size)\n",
    "    ax = sns.barplot(x=non_zero_items, y=non_zero_values, color=\"#666699\")\n",
    "    \n",
    "    ax.set_ylabel('Probabilities')\n",
    "    ax.set_title('Text symbols distribution')\n",
    "    ax.set_xticklabels(non_zero_items)\n",
    "    \n",
    "    plt.show()"
   ]
  },
  {
   "cell_type": "code",
   "execution_count": 26,
   "metadata": {
    "collapsed": false
   },
   "outputs": [
    {
     "data": {
      "image/png": "[encoded data removed]",
      "text/plain": [
       "<matplotlib.figure.Figure at 0x118368fd0>"
      ]
     },
     "metadata": {},
     "output_type": "display_data"
    }
   ],
   "source": [
    "draw__ordered_dict(ordered_dict, (10, 5))"
   ]
  },
  {
   "cell_type": "markdown",
   "metadata": {},
   "source": [
    "#### Caculate Hurst values for 'n' letter"
   ]
  },
  {
   "cell_type": "code",
   "execution_count": 27,
   "metadata": {
    "collapsed": true
   },
   "outputs": [],
   "source": [
    "from textutils import HurstExponent\n",
    "hurst = HurstExponent(german_all, 'n')"
   ]
  },
  {
   "cell_type": "code",
   "execution_count": 28,
   "metadata": {
    "collapsed": false
   },
   "outputs": [
    {
     "data": {
      "text/plain": [
       "35351639"
      ]
     },
     "execution_count": 28,
     "metadata": {},
     "output_type": "execute_result"
    }
   ],
   "source": [
    "len(hurst.distances)"
   ]
  },
  {
   "cell_type": "code",
   "execution_count": 29,
   "metadata": {
    "collapsed": false
   },
   "outputs": [
    {
     "name": "stdout",
     "output_type": "stream",
     "text": [
      "CPU times: user 1h 22min 39s, sys: 28.9 s, total: 1h 23min 8s\n",
      "Wall time: 1h 23min 55s\n"
     ]
    }
   ],
   "source": [
    "%time hurst.calculate(10000)"
   ]
  },
  {
   "cell_type": "code",
   "execution_count": 30,
   "metadata": {
    "collapsed": false
   },
   "outputs": [
    {
     "data": {
      "text/plain": [
       "(array([   3.,    6.,   30.,   65.,  123.,  258.,  371.,  455.,  487.,\n",
       "         482.,  408.,  331.,  238.,  131.,   71.,   37.,   22.,   13.,\n",
       "           3.,    1.]),\n",
       " array([ 0.2535417 ,  0.29050674,  0.32747177,  0.3644368 ,  0.40140183,\n",
       "         0.43836686,  0.4753319 ,  0.51229693,  0.54926196,  0.58622699,\n",
       "         0.62319202,  0.66015706,  0.69712209,  0.73408712,  0.77105215,\n",
       "         0.80801718,  0.84498222,  0.88194725,  0.91891228,  0.95587731,\n",
       "         0.99284234]),\n",
       " <a list of 20 Patch objects>)"
      ]
     },
     "execution_count": 30,
     "metadata": {},
     "output_type": "execute_result"
    },
    {
     "data": {
      "image/png": "[encoded data removed]",
      "text/plain": [
       "<matplotlib.figure.Figure at 0x1181316d0>"
      ]
     },
     "metadata": {},
     "output_type": "display_data"
    }
   ],
   "source": [
    "plt.hist(hurst.hurst_values, 20)"
   ]
  },
  {
   "cell_type": "code",
   "execution_count": 31,
   "metadata": {
    "collapsed": true
   },
   "outputs": [],
   "source": [
    "with open('hurst_values/german.txt', 'w') as outfile:\n",
    "    for v in hurst.hurst_values:\n",
    "        outfile.write(str(v) + '\\n')"
   ]
  },
  {
   "cell_type": "code",
   "execution_count": null,
   "metadata": {
    "collapsed": true
   },
   "outputs": [],
   "source": []
  }
 ],
 "metadata": {
  "kernelspec": {
   "display_name": "Python 2",
   "language": "python",
   "name": "python2"
  },
  "language_info": {
   "codemirror_mode": {
    "name": "ipython",
    "version": 2
   },
   "file_extension": ".py",
   "mimetype": "text/x-python",
   "name": "python",
   "nbconvert_exporter": "python",
   "pygments_lexer": "ipython2",
   "version": "2.7.12"
  }
 },
 "nbformat": 4,
 "nbformat_minor": 1
}
