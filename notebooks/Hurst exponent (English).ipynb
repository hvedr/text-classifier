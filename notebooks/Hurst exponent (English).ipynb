{
 "cells": [
  {
   "cell_type": "code",
   "execution_count": 1,
   "metadata": {
    "collapsed": true
   },
   "outputs": [],
   "source": [
    "import pandas as pd\n",
    "import numpy as np\n",
    "import matplotlib.pylab as plt\n",
    "import seaborn as sns\n",
    "%matplotlib inline\n",
    "from textutils import TextProcessor"
   ]
  },
  {
   "cell_type": "markdown",
   "metadata": {},
   "source": [
    "## English"
   ]
  },
  {
   "cell_type": "markdown",
   "metadata": {},
   "source": [
    "#### Prepare text for analysis "
   ]
  },
  {
   "cell_type": "code",
   "execution_count": 2,
   "metadata": {
    "collapsed": false,
    "scrolled": false
   },
   "outputs": [
    {
     "name": "stdout",
     "output_type": "stream",
     "text": [
      "Text processor class\n",
      "    Make sure you have all your documents in UTF-8 encoding\n",
      "    \n",
      "    Attributes:\n",
      "        processed_dir (str): Proccessed files folder\n",
      "        vocabulary (dict): All languages vocabularies (available: 'rus', 'eng', 'eng_con', 'eng_vow')\n",
      "    \n",
      "    Functions:\n",
      "        \"\"\" Remove all unneccessary symbols from .txt file\n",
      "        preprocess_document(document_path, document_name, lang='eng')\n",
      "\n",
      "        \"\"\" Remove all unneccessary symbols from every .txt file in :folder_path\n",
      "        preprocess_folder(folder_path, lang='eng', join=False)\n",
      "    \n"
     ]
    }
   ],
   "source": [
    "print TextProcessor.__doc__"
   ]
  },
  {
   "cell_type": "code",
   "execution_count": 5,
   "metadata": {
    "collapsed": false
   },
   "outputs": [
    {
     "name": "stdout",
     "output_type": "stream",
     "text": [
      "Try to preprocess documents in wiki_data/english\n",
      "\t---> wiki_data/english/all.txt\n",
      "Files are successfully processed to wiki_data/english/processed\n",
      "CPU times: user 2min 35s, sys: 3.64 s, total: 2min 39s\n",
      "Wall time: 2min 39s\n"
     ]
    }
   ],
   "source": [
    "%time TextProcessor.preprocess_folder('wiki_data/english', lang='en_con', join=False)"
   ]
  },
  {
   "cell_type": "code",
   "execution_count": 7,
   "metadata": {
    "collapsed": true
   },
   "outputs": [],
   "source": [
    "with open('wiki_data/english/processed/all.txt', 'r') as processed_file:\n",
    "    english_all = processed_file.read().replace('\\n', '')"
   ]
  },
  {
   "cell_type": "code",
   "execution_count": 8,
   "metadata": {
    "collapsed": false
   },
   "outputs": [
    {
     "name": "stdout",
     "output_type": "stream",
     "text": [
      "Длина документа: 115290080\n"
     ]
    },
    {
     "data": {
      "text/plain": [
       "'nrchsmnrchsmspltclphlsphthtdvctsslfgvrndsctsbsdnvlntrnstttnsthsrftndscrbdssttlsssctslthghsvrlthrshvdfndthmmrspcfcllsnstttnsbsdnnnhrrchclfrssctnsnrchsmhldsthstttbndsrblnncssrndhrmflwhlntsttsmscntrlnrchsmntlsppsngthrtrhrrchclrgnstnnthcndctfllhmnrltnsncldngbtntlmtdtthsttsstmnrchsmdsntffrfxdbdfdctrnfrmsnglprtclrwrldvwnstdflxngndflwngsphlsphmntpsndtrdtnsfnrchsmxstntllfwhchrmtllxclsvnrchstschlsfthghtcndffrfndmntllspprtngnthngfrmxtrmndvdlsmtcmpltcllctvsmstrnsfnrchsmhvftnbndvddntthctgrsfsclndndvdlstnrchsmrsmlrdlclssfctnsnrchsmssllcnsdrdrdcllftwngdlgndmchfnrchstcnmcsndnrchstlglphlsphrflctntthrtrnntrprttnsfcmmnsmcllctvsmsndclsmmtlsmrprtcptrcnmcsthtrmnrchsmscmpndwrdcmpsdfrmthwrdnrchndthsffxsmthmslvsdrvdrspctvlfrmthgrknrchfrmnrchsmnngnwthtrlrsfrmthprvtvprfxnwthtndrchsldrrlrcfrchnrrkhthrtsvrgntrlmmgstrcndthsffxrsmssmfrmthvrblnfntvsffxznthfrstknwnsfthswrdwsnvrsfctnswthnthfrnchrvltnlblldppnntssnrchstssrbsprrddthhbrtstslthghfwshrdmnvwsfltrnrchststhrwldbmnrvltnrsfthrlnntnthcntrwhcntrbtdtthnrchstdctrnsf'"
      ]
     },
     "execution_count": 8,
     "metadata": {},
     "output_type": "execute_result"
    }
   ],
   "source": [
    "print \"Длина документа: \" + str(len(english_all))\n",
    "english_all[:1000]"
   ]
  },
  {
   "cell_type": "code",
   "execution_count": 9,
   "metadata": {
    "collapsed": false
   },
   "outputs": [],
   "source": [
    "from textutils import TextUtils\n",
    "\n",
    "normalized_dict = TextUtils.get_normalized_dict (\n",
    "    TextUtils.get_n_gram_dict(english_all, 1, lang='en_con')\n",
    ")\n",
    "ordered_dict = TextUtils.get_ordered_dict(normalized_dict, by='value', reverse=True)"
   ]
  },
  {
   "cell_type": "code",
   "execution_count": 10,
   "metadata": {
    "collapsed": true
   },
   "outputs": [],
   "source": [
    "def draw__ordered_dict(dct, size=(10, 8)):\n",
    "    non_zero_items = np.array(dct)[:,0].astype(str)\n",
    "    non_zero_values = np.array(ordered_dict)[:,1].astype(np.float64)\n",
    "    \n",
    "    plt.figure(figsize=size)\n",
    "    ax = sns.barplot(x=non_zero_items, y=non_zero_values, color=\"#666699\")\n",
    "    \n",
    "    ax.set_ylabel('Probabilities')\n",
    "    ax.set_title('Text symbols distribution')\n",
    "    ax.set_xticklabels(non_zero_items)\n",
    "    \n",
    "    plt.show()"
   ]
  },
  {
   "cell_type": "code",
   "execution_count": 11,
   "metadata": {
    "collapsed": false
   },
   "outputs": [
    {
     "data": {
      "image/png": "[encoded data removed]",
      "text/plain": [
       "<matplotlib.figure.Figure at 0x109e3e1d0>"
      ]
     },
     "metadata": {},
     "output_type": "display_data"
    }
   ],
   "source": [
    "draw__ordered_dict(ordered_dict, (10, 5))"
   ]
  },
  {
   "cell_type": "markdown",
   "metadata": {},
   "source": [
    "#### Caculate Hurst values for 't' letter"
   ]
  },
  {
   "cell_type": "code",
   "execution_count": 20,
   "metadata": {
    "collapsed": false
   },
   "outputs": [],
   "source": [
    "from textutils import HurstExponent\n",
    "hurst = HurstExponent(english_all, 't')"
   ]
  },
  {
   "cell_type": "code",
   "execution_count": 21,
   "metadata": {
    "collapsed": false
   },
   "outputs": [
    {
     "data": {
      "text/plain": [
       "16809784"
      ]
     },
     "execution_count": 21,
     "metadata": {},
     "output_type": "execute_result"
    }
   ],
   "source": [
    "len(hurst.distances)"
   ]
  },
  {
   "cell_type": "code",
   "execution_count": 22,
   "metadata": {
    "collapsed": false
   },
   "outputs": [
    {
     "name": "stdout",
     "output_type": "stream",
     "text": [
      "CPU times: user 36min 22s, sys: 23.7 s, total: 36min 46s\n",
      "Wall time: 38min 13s\n"
     ]
    }
   ],
   "source": [
    "%time hurst.calculate(10000)"
   ]
  },
  {
   "cell_type": "markdown",
   "metadata": {},
   "source": [
    "#### Distribution for Wikipedia articles "
   ]
  },
  {
   "cell_type": "code",
   "execution_count": 26,
   "metadata": {
    "collapsed": false
   },
   "outputs": [
    {
     "data": {
      "text/plain": [
       "(array([   4.,   19.,   27.,   71.,   95.,  138.,  185.,  220.,  207.,\n",
       "         173.,  176.,  145.,  104.,   49.,   42.,   12.,    8.,    2.,\n",
       "           2.,    1.]),\n",
       " array([ 0.31728835,  0.35472821,  0.39216807,  0.42960793,  0.46704779,\n",
       "         0.50448765,  0.54192751,  0.57936737,  0.61680723,  0.65424709,\n",
       "         0.69168695,  0.72912681,  0.76656667,  0.80400653,  0.84144639,\n",
       "         0.87888625,  0.9163261 ,  0.95376596,  0.99120582,  1.02864568,\n",
       "         1.06608554]),\n",
       " <a list of 20 Patch objects>)"
      ]
     },
     "execution_count": 26,
     "metadata": {},
     "output_type": "execute_result"
    },
    {
     "data": {
      "image/png": "[encoded data removed]",
      "text/plain": [
       "<matplotlib.figure.Figure at 0x13be4f950>"
      ]
     },
     "metadata": {},
     "output_type": "display_data"
    }
   ],
   "source": [
    "plt.hist(hurst.hurst_values, 20)"
   ]
  },
  {
   "cell_type": "markdown",
   "metadata": {},
   "source": [
    "#### Distribution for novels"
   ]
  },
  {
   "cell_type": "code",
   "execution_count": 12,
   "metadata": {
    "collapsed": false
   },
   "outputs": [
    {
     "data": {
      "text/plain": [
       "(array([  4.,   9.,  19.,  26.,  22.,  16.,   5.,   1.,   1.,   1.]),\n",
       " array([ 0.30823515,  0.37131927,  0.43440339,  0.49748751,  0.56057162,\n",
       "         0.62365574,  0.68673986,  0.74982398,  0.81290809,  0.87599221,\n",
       "         0.93907633]),\n",
       " <a list of 10 Patch objects>)"
      ]
     },
     "execution_count": 12,
     "metadata": {},
     "output_type": "execute_result"
    },
    {
     "data": {
      "image/png": "[encoded data removed]",
      "text/plain": [
       "<matplotlib.figure.Figure at 0x113d075d0>"
      ]
     },
     "metadata": {},
     "output_type": "display_data"
    }
   ],
   "source": [
    "plt.hist(hurst.hurst_values)"
   ]
  },
  {
   "cell_type": "code",
   "execution_count": 29,
   "metadata": {
    "collapsed": false
   },
   "outputs": [],
   "source": [
    "with open('hurst_values/english.txt', 'w') as outfile:\n",
    "    for v in hurst.hurst_values:\n",
    "        outfile.write(str(v) + '\\n')"
   ]
  },
  {
   "cell_type": "markdown",
   "metadata": {},
   "source": [
    "#### Caculate Hurst values for 'n' letter"
   ]
  },
  {
   "cell_type": "code",
   "execution_count": 16,
   "metadata": {
    "collapsed": false
   },
   "outputs": [
    {
     "name": "stdout",
     "output_type": "stream",
     "text": [
      "CPU times: user 3min 22s, sys: 2.79 s, total: 3min 25s\n",
      "Wall time: 3min 28s\n"
     ]
    },
    {
     "data": {
      "text/plain": [
       "(array([  6.,   7.,   9.,  11.,  16.,   8.,  12.,   2.,   3.,   3.]),\n",
       " array([ 0.34603426,  0.39125482,  0.43647538,  0.48169594,  0.5269165 ,\n",
       "         0.57213706,  0.61735763,  0.66257819,  0.70779875,  0.75301931,\n",
       "         0.79823987]),\n",
       " <a list of 10 Patch objects>)"
      ]
     },
     "execution_count": 16,
     "metadata": {},
     "output_type": "execute_result"
    },
    {
     "data": {
      "image/png": "[encoded data removed]",
      "text/plain": [
       "<matplotlib.figure.Figure at 0x113d11690>"
      ]
     },
     "metadata": {},
     "output_type": "display_data"
    }
   ],
   "source": [
    "hurst = HurstExponent(english_all, 'n')\n",
    "%time hurst.calculate(10000)\n",
    "plt.hist(hurst.hurst_values)"
   ]
  },
  {
   "cell_type": "code",
   "execution_count": 17,
   "metadata": {
    "collapsed": false
   },
   "outputs": [
    {
     "data": {
      "text/plain": [
       "779582"
      ]
     },
     "execution_count": 17,
     "metadata": {},
     "output_type": "execute_result"
    }
   ],
   "source": [
    "len(hurst.distances)"
   ]
  },
  {
   "cell_type": "markdown",
   "metadata": {},
   "source": [
    "#### Caculate Hurst values for 's' letter"
   ]
  },
  {
   "cell_type": "code",
   "execution_count": 14,
   "metadata": {
    "collapsed": false
   },
   "outputs": [
    {
     "name": "stdout",
     "output_type": "stream",
     "text": [
      "CPU times: user 1min 38s, sys: 971 ms, total: 1min 39s\n",
      "Wall time: 1min 40s\n"
     ]
    },
    {
     "data": {
      "text/plain": [
       "(array([  2.,   1.,   6.,  11.,   9.,  12.,  11.,  11.,   6.,   2.]),\n",
       " array([ 0.30522963,  0.35389658,  0.40256353,  0.45123048,  0.49989743,\n",
       "         0.54856438,  0.59723133,  0.64589827,  0.69456522,  0.74323217,\n",
       "         0.79189912]),\n",
       " <a list of 10 Patch objects>)"
      ]
     },
     "execution_count": 14,
     "metadata": {},
     "output_type": "execute_result"
    },
    {
     "data": {
      "image/png": "[encoded data removed]",
      "text/plain": [
       "<matplotlib.figure.Figure at 0x113eda8d0>"
      ]
     },
     "metadata": {},
     "output_type": "display_data"
    }
   ],
   "source": [
    "hurst = HurstExponent(english_all, 's')\n",
    "%time hurst.calculate(10000)\n",
    "plt.hist(hurst.hurst_values)"
   ]
  },
  {
   "cell_type": "code",
   "execution_count": 15,
   "metadata": {
    "collapsed": false
   },
   "outputs": [
    {
     "data": {
      "text/plain": [
       "710308"
      ]
     },
     "execution_count": 15,
     "metadata": {},
     "output_type": "execute_result"
    }
   ],
   "source": [
    "len(hurst.distances)"
   ]
  },
  {
   "cell_type": "code",
   "execution_count": null,
   "metadata": {
    "collapsed": true
   },
   "outputs": [],
   "source": []
  }
 ],
 "metadata": {
  "kernelspec": {
   "display_name": "Python 2",
   "language": "python",
   "name": "python2"
  },
  "language_info": {
   "codemirror_mode": {
    "name": "ipython",
    "version": 2
   },
   "file_extension": ".py",
   "mimetype": "text/x-python",
   "name": "python",
   "nbconvert_exporter": "python",
   "pygments_lexer": "ipython2",
   "version": "2.7.12"
  }
 },
 "nbformat": 4,
 "nbformat_minor": 1
}
