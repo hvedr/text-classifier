{
 "cells": [
  {
   "cell_type": "code",
   "execution_count": 1,
   "metadata": {
    "collapsed": true
   },
   "outputs": [],
   "source": [
    "import numpy as np\n",
    "import pandas as pd\n",
    "import matplotlib.pylab as plt\n",
    "import seaborn as sns\n",
    "%matplotlib inline"
   ]
  },
  {
   "cell_type": "code",
   "execution_count": 2,
   "metadata": {
    "collapsed": false
   },
   "outputs": [
    {
     "data": {
      "text/plain": [
       "['bulgarian(ru).txt',\n",
       " 'croatian(hr).txt',\n",
       " 'czech(cs).txt',\n",
       " 'danish(da).txt',\n",
       " 'dutch(en).txt',\n",
       " 'english(en).txt',\n",
       " 'french(fr).txt',\n",
       " 'german(de).txt',\n",
       " 'italian(it).txt',\n",
       " 'norwegian(da).txt',\n",
       " 'polish(pl).txt',\n",
       " 'romanian(ro).txt',\n",
       " 'serbian(sr).txt',\n",
       " 'spanish(es).txt',\n",
       " 'swedish(sv).txt']"
      ]
     },
     "execution_count": 2,
     "metadata": {},
     "output_type": "execute_result"
    }
   ],
   "source": [
    "languages = !ls 'wiki_data/processed/'\n",
    "languages"
   ]
  },
  {
   "cell_type": "markdown",
   "metadata": {},
   "source": [
    "Имеем 15 европейских языков в качестве входного алфавита. Запишем их в словарь для дальнейшей удобной работы"
   ]
  },
  {
   "cell_type": "code",
   "execution_count": 72,
   "metadata": {
    "collapsed": false
   },
   "outputs": [
    {
     "name": "stdout",
     "output_type": "stream",
     "text": [
      "CPU times: user 9.54 s, sys: 7.19 s, total: 16.7 s\n",
      "Wall time: 19.1 s\n"
     ]
    }
   ],
   "source": [
    "%%time\n",
    "lang_texts = {}\n",
    "\n",
    "for lang in languages:\n",
    "    lang_name = lang[:-8]\n",
    "    with open('wiki_data/processed/' + lang, 'r') as processed_file:\n",
    "        text = processed_file.read().replace('\\n', '').decode('utf-8')\n",
    "    lang_texts[lang_name] = text"
   ]
  },
  {
   "cell_type": "code",
   "execution_count": 73,
   "metadata": {
    "collapsed": false
   },
   "outputs": [
    {
     "name": "stdout",
     "output_type": "stream",
     "text": [
      "ппјвнппјвнлтнскмрдцмбрјбппддцмбргдндсвјсмртсмтрсзјднгднјспсбнјхппвквлкдсвгпнтфктјвнјпрвбрбсмслмнскмс\n"
     ]
    }
   ],
   "source": [
    "print lang_texts['serbian'][:100]"
   ]
  },
  {
   "cell_type": "code",
   "execution_count": 74,
   "metadata": {
    "collapsed": false
   },
   "outputs": [
    {
     "data": {
      "text/plain": [
       "213124602"
      ]
     },
     "execution_count": 74,
     "metadata": {},
     "output_type": "execute_result"
    }
   ],
   "source": [
    "# средняя длина текстов\n",
    "int(np.mean([len(x) for x in lang_texts.values()]))"
   ]
  },
  {
   "cell_type": "markdown",
   "metadata": {},
   "source": [
    "У нас в наличии выборка из 15 европейских языков, общая длина текстов каждого языка в среднем 213 миллионов знаков. Из [Предыдущего исследования](Voynich Language Detection.ipynb) видим, что 30000 символов достаточно, чтобы с точностью около 95% определять язык текста. В этом ноутбуке попробуем пойти другим путем. Разобъем наши тексты на фрагменты по `K` символов (дальше выясним, какое `K` является оптимальным для хорошего качества предсказания) и обучим классификатор на векторах N-грам этих фрагментов. Предполагаемый способ может дать возможность определять язык даже для маленьких фрагментов текста (до 100 символов) с большой точностью, а также получится выделить из языков некоторые N-грамы, которые хорошо их описывают."
   ]
  },
  {
   "cell_type": "markdown",
   "metadata": {},
   "source": [
    "### Part I: Different alphabets "
   ]
  },
  {
   "cell_type": "code",
   "execution_count": 12,
   "metadata": {
    "collapsed": false
   },
   "outputs": [],
   "source": [
    "def get_text_frames(text, samples_number, frame_len):\n",
    "    frames = []\n",
    "    for i in xrange(samples_number):\n",
    "        cur_index = i * frame_len\n",
    "        frames.append(text[cur_index:(cur_index + frame_len)])\n",
    "    return frames\n",
    "\n",
    "def generate_text_subsamples (lang_samples_num = 5000, frame_len = 100):\n",
    "\n",
    "    data = pd.DataFrame(columns=['frame', 'lang'])\n",
    "\n",
    "    for lang in lang_texts:\n",
    "        frames = get_text_frames(lang_texts[lang], lang_samples_num, frame_len)\n",
    "        langs = [lang for _ in range(lang_samples_num)]\n",
    "        data = pd.concat([data, pd.DataFrame({'frame': frames, 'lang': langs})], ignore_index=True)\n",
    "\n",
    "    return data"
   ]
  },
  {
   "cell_type": "code",
   "execution_count": 75,
   "metadata": {
    "collapsed": false
   },
   "outputs": [
    {
     "name": "stdout",
     "output_type": "stream",
     "text": [
      "CPU times: user 91.1 ms, sys: 83.1 ms, total: 174 ms\n",
      "Wall time: 200 ms\n"
     ]
    }
   ],
   "source": [
    "%%time\n",
    "data = generate_text_subsamples()"
   ]
  },
  {
   "cell_type": "code",
   "execution_count": 86,
   "metadata": {
    "collapsed": false
   },
   "outputs": [
    {
     "name": "stdout",
     "output_type": "stream",
     "text": [
      "(75000, 2)\n"
     ]
    },
    {
     "data": {
      "text/html": [
       "<div>\n",
       "<table border=\"1\" class=\"dataframe\">\n",
       "  <thead>\n",
       "    <tr style=\"text-align: right;\">\n",
       "      <th></th>\n",
       "      <th>frame</th>\n",
       "      <th>lang</th>\n",
       "    </tr>\n",
       "  </thead>\n",
       "  <tbody>\n",
       "    <tr>\n",
       "      <th>0</th>\n",
       "      <td>gtbrgslgrhsgtbrgslgrhsllrfrlgrhstvnlgtvsbnmntl...</td>\n",
       "      <td>swedish</td>\n",
       "    </tr>\n",
       "    <tr>\n",
       "      <th>1</th>\n",
       "      <td>sthggtgtbrgfrlgrtvrdtfrststtslglndtchndrktfrgn...</td>\n",
       "      <td>swedish</td>\n",
       "    </tr>\n",
       "    <tr>\n",
       "      <th>2</th>\n",
       "      <td>gndhsrbggndnnmrnblndnngvrstrngrfrlgskntrchkltr...</td>\n",
       "      <td>swedish</td>\n",
       "    </tr>\n",
       "    <tr>\n",
       "      <th>3</th>\n",
       "      <td>snngrsmdnmrkchnrghdttmtsvrndpplggfrgtbrgsdlskl...</td>\n",
       "      <td>swedish</td>\n",
       "    </tr>\n",
       "    <tr>\n",
       "      <th>4</th>\n",
       "      <td>tfrlgrstdnknglggnrltllstrlsntllstrktssmnngmttf...</td>\n",
       "      <td>swedish</td>\n",
       "    </tr>\n",
       "  </tbody>\n",
       "</table>\n",
       "</div>"
      ],
      "text/plain": [
       "                                               frame     lang\n",
       "0  gtbrgslgrhsgtbrgslgrhsllrfrlgrhstvnlgtvsbnmntl...  swedish\n",
       "1  sthggtgtbrgfrlgrtvrdtfrststtslglndtchndrktfrgn...  swedish\n",
       "2  gndhsrbggndnnmrnblndnngvrstrngrfrlgskntrchkltr...  swedish\n",
       "3  snngrsmdnmrkchnrghdttmtsvrndpplggfrgtbrgsdlskl...  swedish\n",
       "4  tfrlgrstdnknglggnrltllstrlsntllstrktssmnngmttf...  swedish"
      ]
     },
     "execution_count": 86,
     "metadata": {},
     "output_type": "execute_result"
    }
   ],
   "source": [
    "print data.shape\n",
    "data.head()"
   ]
  },
  {
   "cell_type": "markdown",
   "metadata": {},
   "source": [
    "Перекодируем целевой признак в целочисленный тип для адеватной работы классификатора (не все умеет обрабатывать категориальные признаки)"
   ]
  },
  {
   "cell_type": "code",
   "execution_count": 76,
   "metadata": {
    "collapsed": true
   },
   "outputs": [],
   "source": [
    "from sklearn.preprocessing import LabelEncoder\n",
    "\n",
    "encoder = LabelEncoder()\n",
    "data.lang = encoder.fit_transform(data.lang)"
   ]
  },
  {
   "cell_type": "markdown",
   "metadata": {},
   "source": [
    "Отобразим какой в какой лейбел перекодировался каждый язык"
   ]
  },
  {
   "cell_type": "code",
   "execution_count": 83,
   "metadata": {
    "collapsed": false
   },
   "outputs": [
    {
     "data": {
      "text/plain": [
       "{(0, 'bulgarian'),\n",
       " (1, 'croatian'),\n",
       " (2, 'czech'),\n",
       " (3, 'danish'),\n",
       " (4, 'dutch'),\n",
       " (5, 'english'),\n",
       " (6, 'french'),\n",
       " (7, 'german'),\n",
       " (8, 'italian'),\n",
       " (9, 'norwegian'),\n",
       " (10, 'polish'),\n",
       " (11, 'romanian'),\n",
       " (12, 'serbian'),\n",
       " (13, 'spanish'),\n",
       " (14, 'swedish')}"
      ]
     },
     "execution_count": 83,
     "metadata": {},
     "output_type": "execute_result"
    }
   ],
   "source": [
    "set(zip(data.lang.values, encoder.inverse_transform(data.lang)))"
   ]
  },
  {
   "cell_type": "markdown",
   "metadata": {},
   "source": [
    "Разобъем нашу выборку на train и test для обучения модели и предсказания результата соответственно"
   ]
  },
  {
   "cell_type": "code",
   "execution_count": 118,
   "metadata": {
    "collapsed": false
   },
   "outputs": [],
   "source": [
    "from sklearn.model_selection import train_test_split\n",
    "\n",
    "xtr, xcv, ytr, ycv = train_test_split(data.frame, data.lang, test_size = 0.3, random_state = 42)"
   ]
  },
  {
   "cell_type": "code",
   "execution_count": 165,
   "metadata": {
    "collapsed": false
   },
   "outputs": [
    {
     "name": "stdout",
     "output_type": "stream",
     "text": [
      "(52500,)\n",
      "(22500,)\n"
     ]
    }
   ],
   "source": [
    "# На 50k объектах обучаемся, для 22k предсказываем\n",
    "print xtr.shape\n",
    "print xcv.shape"
   ]
  },
  {
   "cell_type": "markdown",
   "metadata": {},
   "source": [
    "Составим разреженную матрицу из н-грам для дальнейшего обучения модели"
   ]
  },
  {
   "cell_type": "code",
   "execution_count": 9,
   "metadata": {
    "collapsed": false
   },
   "outputs": [
    {
     "name": "stdout",
     "output_type": "stream",
     "text": [
      "CPU times: user 2.51 ms, sys: 2.54 ms, total: 5.05 ms\n",
      "Wall time: 7.79 ms\n"
     ]
    }
   ],
   "source": [
    "%%time\n",
    "from sklearn.feature_extraction.text import CountVectorizer\n",
    "\n",
    "ngram_vectorizer = CountVectorizer (\n",
    "    analyzer='char_wb', \n",
    "    ngram_range=(3, 4), \n",
    "    max_features=200000,\n",
    ") \n",
    "\n",
    "ngram_train = ngram_vectorizer.fit_transform(xtr)\n",
    "ngram_test = ngram_vectorizer.transform(xcv)"
   ]
  },
  {
   "cell_type": "markdown",
   "metadata": {},
   "source": [
    "Теперь обучим логистическую регрессию на н-грамах, для мультиклассовой проблемы попробуем использовать One-Vs-Rest и One-Vs-One классификаторы. Посмотрим, какой из них даст лучшие результаты."
   ]
  },
  {
   "cell_type": "markdown",
   "metadata": {},
   "source": [
    "#### One-Vs-The-Rest classifier "
   ]
  },
  {
   "cell_type": "code",
   "execution_count": 8,
   "metadata": {
    "collapsed": false
   },
   "outputs": [],
   "source": [
    "from sklearn.linear_model import LogisticRegression\n",
    "\n",
    "lr = LogisticRegression(\n",
    "    penalty='l2',\n",
    "    dual=True,\n",
    "    solver='liblinear'\n",
    ")\n",
    "\n",
    "from sklearn.multiclass import OneVsRestClassifier\n",
    "ovr = OneVsRestClassifier(lr)"
   ]
  },
  {
   "cell_type": "code",
   "execution_count": 153,
   "metadata": {
    "collapsed": false
   },
   "outputs": [
    {
     "name": "stdout",
     "output_type": "stream",
     "text": [
      "CPU times: user 34.1 s, sys: 2.3 s, total: 36.4 s\n",
      "Wall time: 40.1 s\n"
     ]
    },
    {
     "data": {
      "text/plain": [
       "OneVsRestClassifier(estimator=LogisticRegression(C=1.0, class_weight=None, dual=True, fit_intercept=True,\n",
       "          intercept_scaling=1, max_iter=100, multi_class='ovr', n_jobs=1,\n",
       "          penalty='l2', random_state=None, solver='liblinear', tol=0.0001,\n",
       "          verbose=0, warm_start=False),\n",
       "          n_jobs=1)"
      ]
     },
     "execution_count": 153,
     "metadata": {},
     "output_type": "execute_result"
    }
   ],
   "source": [
    "%%time\n",
    "ovr.fit(ngram_train, ytr)"
   ]
  },
  {
   "cell_type": "code",
   "execution_count": 154,
   "metadata": {
    "collapsed": true
   },
   "outputs": [],
   "source": [
    "preds = ovr.predict(ngram_test)"
   ]
  },
  {
   "cell_type": "code",
   "execution_count": 157,
   "metadata": {
    "collapsed": false
   },
   "outputs": [
    {
     "data": {
      "text/plain": [
       "0.98133333333333328"
      ]
     },
     "execution_count": 157,
     "metadata": {},
     "output_type": "execute_result"
    }
   ],
   "source": [
    "from sklearn.metrics import accuracy_score\n",
    "\n",
    "accuracy_score(ycv, preds)"
   ]
  },
  {
   "cell_type": "markdown",
   "metadata": {},
   "source": [
    "#### One-Vs-One classifier  "
   ]
  },
  {
   "cell_type": "code",
   "execution_count": 159,
   "metadata": {
    "collapsed": true
   },
   "outputs": [],
   "source": [
    "from sklearn.multiclass import OneVsOneClassifier\n",
    "ovo = OneVsOneClassifier(lr)"
   ]
  },
  {
   "cell_type": "code",
   "execution_count": 160,
   "metadata": {
    "collapsed": false
   },
   "outputs": [
    {
     "name": "stdout",
     "output_type": "stream",
     "text": [
      "CPU times: user 23.2 s, sys: 2.14 s, total: 25.3 s\n",
      "Wall time: 25.7 s\n"
     ]
    }
   ],
   "source": [
    "%%time\n",
    "ovo.fit(ngram_train, ytr)\n",
    "preds_ovo = ovo.predict(ngram_test)"
   ]
  },
  {
   "cell_type": "code",
   "execution_count": 161,
   "metadata": {
    "collapsed": false
   },
   "outputs": [
    {
     "data": {
      "text/plain": [
       "0.97617777777777781"
      ]
     },
     "execution_count": 161,
     "metadata": {},
     "output_type": "execute_result"
    }
   ],
   "source": [
    "accuracy_score(ycv, preds_ovo)"
   ]
  },
  {
   "cell_type": "markdown",
   "metadata": {},
   "source": [
    "Получаем, что имея выборку из 50000 фрагментов длины 100 для 15 европейских языков можно с вероятностью `98%` предсказывать язык этого фрагмента на основе его 3- и 4-грам. Попробуем построить зависимость точности предсказания от длины самого фрагмента."
   ]
  },
  {
   "cell_type": "code",
   "execution_count": 166,
   "metadata": {
    "collapsed": true
   },
   "outputs": [],
   "source": [
    "frame_lenghts = [5, 10, 15, 20, 25, 35, 50, 75, 100, 200, 500, 1000]\n",
    "scores = []"
   ]
  },
  {
   "cell_type": "code",
   "execution_count": 167,
   "metadata": {
    "collapsed": false
   },
   "outputs": [
    {
     "name": "stdout",
     "output_type": "stream",
     "text": [
      "Done for (frame length):  5 10 15 20 25 35 50 75 100 200 500 1000\n"
     ]
    }
   ],
   "source": [
    "print \"Done for (frame length): \",\n",
    "for frame_len in frame_lenghts:\n",
    "    sample = generate_text_subsamples(frame_len=frame_len)\n",
    "    sample.lang = encoder.fit_transform(sample.lang)\n",
    "    x_tr, x_cv, y_tr, y_cv = train_test_split(sample.frame, sample.lang, test_size = 0.3)\n",
    "    ngram_tr = ngram_vectorizer.fit_transform(x_tr)\n",
    "    ngram_te = ngram_vectorizer.transform(x_cv)\n",
    "    ovr.fit(ngram_tr, y_tr)\n",
    "    preds_sample = ovr.predict(ngram_te)\n",
    "    scores.append(accuracy_score(y_cv, preds_sample))\n",
    "    print frame_len,"
   ]
  },
  {
   "cell_type": "code",
   "execution_count": 266,
   "metadata": {
    "collapsed": true
   },
   "outputs": [],
   "source": [
    "def print_scores(lengths, scores):\n",
    "    plt.figure(figsize=(15, 6))\n",
    "    plt.title('Language prediction accuracy score by text frame length')\n",
    "    plt.xlabel('frame size')\n",
    "    plt.ylabel('accuracy score')\n",
    "    plt.plot(lengths, scores)\n",
    "    plt.show()"
   ]
  },
  {
   "cell_type": "code",
   "execution_count": 267,
   "metadata": {
    "collapsed": false
   },
   "outputs": [
    {
     "data": {
      "image/png": "[encoded data removed]",
      "text/plain": [
       "<matplotlib.figure.Figure at 0x11b487510>"
      ]
     },
     "metadata": {},
     "output_type": "display_data"
    }
   ],
   "source": [
    "print_scores(frame_lenghts, scores)"
   ]
  },
  {
   "cell_type": "code",
   "execution_count": 268,
   "metadata": {
    "collapsed": false
   },
   "outputs": [
    {
     "data": {
      "image/png": "[encoded data removed]",
      "text/plain": [
       "<matplotlib.figure.Figure at 0x11b886cd0>"
      ]
     },
     "metadata": {},
     "output_type": "display_data"
    }
   ],
   "source": [
    "print_scores(frame_lenghts[:-3], scores[:-3])"
   ]
  },
  {
   "cell_type": "code",
   "execution_count": 180,
   "metadata": {
    "collapsed": false
   },
   "outputs": [
    {
     "name": "stdout",
     "output_type": "stream",
     "text": [
      "len\t\tscore\n",
      "\n",
      "5 \t\t0.477511111111\n",
      "10 \t\t0.6696\n",
      "15 \t\t0.760444444444\n",
      "20 \t\t0.820222222222\n",
      "25 \t\t0.854444444444\n",
      "35 \t\t0.906177777778\n",
      "50 \t\t0.944044444444\n",
      "75 \t\t0.971644444444\n",
      "100 \t\t0.982488888889\n",
      "200 \t\t0.994488888889\n",
      "500 \t\t0.998266666667\n",
      "1000 \t\t0.999111111111\n"
     ]
    }
   ],
   "source": [
    "print 'len\\t\\tscore\\n'\n",
    "for k, v in zip(frame_lenghts, scores):\n",
    "    print k, '\\t\\t', v"
   ]
  },
  {
   "cell_type": "markdown",
   "metadata": {},
   "source": [
    "Перейдем к наиболее интересной задаче - попробуем различать языки, если бы они были написаны в одном алфавите (латиница). Построим аналогичные графики для этого случая."
   ]
  },
  {
   "cell_type": "markdown",
   "metadata": {},
   "source": [
    "### Part II: One latin alphabet "
   ]
  },
  {
   "cell_type": "code",
   "execution_count": 3,
   "metadata": {
    "collapsed": true
   },
   "outputs": [],
   "source": [
    "from textutils import TextProcessor"
   ]
  },
  {
   "cell_type": "code",
   "execution_count": 4,
   "metadata": {
    "collapsed": true
   },
   "outputs": [],
   "source": [
    "lang_texts_latin = {}\n",
    "\n",
    "for lang in languages:\n",
    "    lang_name = lang[:-8]\n",
    "    with open('wiki_data/processed/' + lang, 'r') as processed_file:\n",
    "        text = TextProcessor.get_english_transliteration(\n",
    "            processed_file.read().replace('\\n', '').decode('utf-8')\n",
    "        )\n",
    "    lang_texts_latin[lang_name] = text"
   ]
  },
  {
   "cell_type": "code",
   "execution_count": 5,
   "metadata": {
    "collapsed": true
   },
   "outputs": [],
   "source": [
    "def generate_english_subsamples (lang_samples_num = 5000, frame_len = 100):\n",
    "\n",
    "    data = pd.DataFrame(columns=['frame', 'lang'])\n",
    "\n",
    "    for lang in lang_texts_latin:\n",
    "        frames = get_text_frames(lang_texts_latin[lang], lang_samples_num, frame_len)\n",
    "        langs = [lang for _ in range(lang_samples_num)]\n",
    "        data = pd.concat([data, pd.DataFrame({'frame': frames, 'lang': langs})], ignore_index=True)\n",
    "\n",
    "    return data"
   ]
  },
  {
   "cell_type": "code",
   "execution_count": 6,
   "metadata": {
    "collapsed": true
   },
   "outputs": [],
   "source": [
    "frame_lenghts_latin = [5, 10, 15, 20, 25, 35, 50, 75, 100, 200, 300, 500, 750, 1000]\n",
    "scores_latin = []"
   ]
  },
  {
   "cell_type": "code",
   "execution_count": 193,
   "metadata": {
    "collapsed": false
   },
   "outputs": [
    {
     "name": "stdout",
     "output_type": "stream",
     "text": [
      "Done for (frame length):  5 10 15 20 25 35 50 75 100 200 300 500 750 1000\n"
     ]
    }
   ],
   "source": [
    "print \"Done for (frame length): \",\n",
    "for frame_len in frame_lenghts_latin:\n",
    "    sample = generate_english_subsamples(frame_len=frame_len)\n",
    "    sample.lang = encoder.fit_transform(sample.lang)\n",
    "    x_tr, x_cv, y_tr, y_cv = train_test_split(sample.frame, sample.lang, test_size = 0.3)\n",
    "    ngram_tr = ngram_vectorizer.fit_transform(x_tr)\n",
    "    ngram_te = ngram_vectorizer.transform(x_cv)\n",
    "    ovr.fit(ngram_tr, y_tr)\n",
    "    preds_sample = ovr.predict(ngram_te)\n",
    "    scores_latin.append(accuracy_score(y_cv, preds_sample))\n",
    "    print frame_len,"
   ]
  },
  {
   "cell_type": "code",
   "execution_count": 269,
   "metadata": {
    "collapsed": false
   },
   "outputs": [
    {
     "data": {
      "image/png": "[encoded data removed]",
      "text/plain": [
       "<matplotlib.figure.Figure at 0x2d5106a10>"
      ]
     },
     "metadata": {},
     "output_type": "display_data"
    }
   ],
   "source": [
    "print_scores(frame_lenghts_latin, scores_latin)"
   ]
  },
  {
   "cell_type": "code",
   "execution_count": 270,
   "metadata": {
    "collapsed": false
   },
   "outputs": [
    {
     "data": {
      "image/png": "[encoded data removed]",
      "text/plain": [
       "<matplotlib.figure.Figure at 0x11b6a0fd0>"
      ]
     },
     "metadata": {},
     "output_type": "display_data"
    }
   ],
   "source": [
    "print_scores(frame_lenghts_latin[:-3], scores_latin[:-3])"
   ]
  },
  {
   "cell_type": "code",
   "execution_count": 200,
   "metadata": {
    "collapsed": false
   },
   "outputs": [
    {
     "name": "stdout",
     "output_type": "stream",
     "text": [
      "len\t\tscore\t\t\tscore latin\n",
      "\n",
      "5 \t\t0.477511111111 \t\t0.374888888889\n",
      "10 \t\t0.6696 \t\t0.579111111111\n",
      "15 \t\t0.760444444444 \t\t0.691155555556\n",
      "20 \t\t0.820222222222 \t\t0.758044444444\n",
      "25 \t\t0.854444444444 \t\t0.8072\n",
      "35 \t\t0.906177777778 \t\t0.865822222222\n",
      "50 \t\t0.944044444444 \t\t0.916977777778\n",
      "75 \t\t0.971644444444 \t\t0.957422222222\n",
      "100 \t\t0.982488888889 \t\t0.971955555556\n",
      "200 \t\t0.994488888889 \t\t0.989555555556\n",
      "500 \t\t0.998266666667 \t\t0.994711111111\n",
      "1000 \t\t0.999111111111 \t\t0.997644444444\n"
     ]
    }
   ],
   "source": [
    "print 'len\\t\\tscore\\t\\t\\tscore latin\\n'\n",
    "for k, v1, v2 in zip(frame_lenghts, scores, scores_latin):\n",
    "    print k, '\\t\\t', v1, '\\t\\t', v2"
   ]
  },
  {
   "cell_type": "markdown",
   "metadata": {},
   "source": [
    "### Select K-Best "
   ]
  },
  {
   "cell_type": "markdown",
   "metadata": {},
   "source": [
    "Возьмем в качестве образца фреймы длины 100, на выборке с текстами в исходном алфавите качество определения языка для такой длины текстов составляет `0.982`, для текстов в едином алфавите (в латинице) - чуть хуже, `0.971`. Наибольший интерес относительно Манускрипта Войнича составляет выборка текстов в едином алфавите. Количество различных N-грам при этом равно ~125k. \n",
    "Интересно проверить, какие именно N-граммы содержат в себе максимум информации о том или ином языке. Попробуем для этого воспользоваться методом K-Best, который позволяет оставить из всей выборки только нужное число признаков сохраняя максимальное количество энтропии системы. Проверим также зависимость числа признаков от качества определения языка."
   ]
  },
  {
   "cell_type": "markdown",
   "metadata": {},
   "source": [
    "Генерируем выборку и перекодируем целевой категориальный признак (language) в целочисленный формат"
   ]
  },
  {
   "cell_type": "code",
   "execution_count": 13,
   "metadata": {
    "collapsed": false
   },
   "outputs": [],
   "source": [
    "frame_len = 100\n",
    "sample = generate_english_subsamples(frame_len=frame_len)\n",
    "sample.lang = encoder.fit_transform(sample.lang)"
   ]
  },
  {
   "cell_type": "markdown",
   "metadata": {},
   "source": [
    "Векторизуем данные с помощью N-грам. Формат на выходе - разреженная матрица, количество признаков `~125k`"
   ]
  },
  {
   "cell_type": "code",
   "execution_count": 16,
   "metadata": {
    "collapsed": false
   },
   "outputs": [],
   "source": [
    "x_tr, x_cv, y_tr, y_cv = train_test_split(sample.frame, sample.lang, test_size = 0.3, random_state = 42)\n",
    "ngram_tr = ngram_vectorizer.fit_transform(x_tr)\n",
    "ngram_te = ngram_vectorizer.transform(x_cv)"
   ]
  },
  {
   "cell_type": "code",
   "execution_count": 17,
   "metadata": {
    "collapsed": false
   },
   "outputs": [
    {
     "data": {
      "text/plain": [
       "(52500, 125789)"
      ]
     },
     "execution_count": 17,
     "metadata": {},
     "output_type": "execute_result"
    }
   ],
   "source": [
    "ngram_tr.shape"
   ]
  },
  {
   "cell_type": "markdown",
   "metadata": {},
   "source": [
    "Воспользуемся K-Best, для нормальной работы с sparse matricies в задаче классификации рекомендуется использовать критерии `chi2`, или `mutual_info_classif`, хотя со вторым модель работает крайне медленно."
   ]
  },
  {
   "cell_type": "code",
   "execution_count": 18,
   "metadata": {
    "collapsed": false
   },
   "outputs": [],
   "source": [
    "from sklearn.feature_selection import SelectKBest\n",
    "from sklearn.feature_selection import chi2"
   ]
  },
  {
   "cell_type": "markdown",
   "metadata": {},
   "source": [
    "Построим зависимость качества предсказания языка от количества лучших выбранных признаков (N-грам)"
   ]
  },
  {
   "cell_type": "code",
   "execution_count": 288,
   "metadata": {
    "collapsed": false
   },
   "outputs": [
    {
     "name": "stdout",
     "output_type": "stream",
     "text": [
      "k-best\t\tscore\n",
      "10 \t\t0.258577777778\n",
      "25 \t\t0.380888888889\n",
      "50 \t\t0.438577777778\n",
      "100 \t\t0.48\n",
      "250 \t\t0.711911111111\n",
      "500 \t\t0.815022222222\n",
      "1000 \t\t0.884977777778\n",
      "2500 \t\t0.933911111111\n",
      "5000 \t\t0.949866666667\n",
      "10000 \t\t0.962711111111\n",
      "25000 \t\t0.969022222222\n",
      "50000 \t\t0.970577777778\n",
      "100000 \t\t0.971111111111\n",
      "125000 \t\t0.9712\n"
     ]
    }
   ],
   "source": [
    "k_s = [10, 25, 50, 100, 250, 500, 1000, 2500, 5000, 10000, 25000, 50000, 100000, 125000]\n",
    "scores_k = []\n",
    "\n",
    "print 'k-best\\t\\tscore\\n'\n",
    "for k in k_s:\n",
    "    skb = SelectKBest(chi2, k=k)\n",
    "    x_tr_kbest = skb.fit_transform(ngram_tr, y_tr)\n",
    "    x_cv_kbest = skb.transform(ngram_te)\n",
    "    ovr.fit(x_tr_kbest, y_tr)\n",
    "    preds_kbest = ovr.predict(x_cv_kbest)\n",
    "    scores_k.append(accuracy_score(y_cv, preds_kbest))\n",
    "    print k, '\\t\\t', scores_k[-1]"
   ]
  },
  {
   "cell_type": "code",
   "execution_count": 292,
   "metadata": {
    "collapsed": false
   },
   "outputs": [
    {
     "data": {
      "image/png": "[encoded data removed]",
      "text/plain": [
       "<matplotlib.figure.Figure at 0x11b1f6bd0>"
      ]
     },
     "metadata": {},
     "output_type": "display_data"
    }
   ],
   "source": [
    "plt.figure(figsize=(15, 6))\n",
    "plt.title('Language prediction accuracy score by number of N-grams')\n",
    "plt.xlabel('n-gram number')\n",
    "plt.ylabel('accuracy score')\n",
    "plt.plot(k_s[:-4], scores_k[:-4])\n",
    "plt.show()"
   ]
  },
  {
   "cell_type": "markdown",
   "metadata": {},
   "source": [
    "Посмотрим глазами на эти N-граммы. Отобразим первые K тех, которые считались \"лучшими\". Посмотрим также, какие именно языки эти N-грамы описывают лучше всего."
   ]
  },
  {
   "cell_type": "code",
   "execution_count": null,
   "metadata": {
    "collapsed": true
   },
   "outputs": [],
   "source": [
    "from sklearn import preprocessing\n",
    "\n",
    "frames_grouped_by_lang = sample.groupby(by='lang', as_index=False).frame.sum()\n",
    "ngram_grouped = ngram_vectorizer.transform(frames_grouped_by_lang.frame)\n",
    "\n",
    "feature_scores = sorted (\n",
    "    zip([i for i in range(len(skb.scores_))], skb.scores_),\n",
    "    key=lambda x: x[1],\n",
    "    reverse=True\n",
    ")"
   ]
  },
  {
   "cell_type": "code",
   "execution_count": 93,
   "metadata": {
    "collapsed": false
   },
   "outputs": [],
   "source": [
    "def get_ngram_lang(n_gram):\n",
    "    data_col_idx = ngram_vectorizer.vocabulary_[n_gram]\n",
    "    lang_ngram_counts = ngram_grouped.getcol(data_col_idx).data\n",
    "    ngram_counts_scaled = preprocessing.scale(lang_ngram_counts)\n",
    "    lang_label_max = np.argmax(np.abs(ngram_counts_scaled))\n",
    "    return encoder.classes_[lang_label_max]\n",
    "\n",
    "def print_k_best(k = 10):\n",
    "    print 'N-gram\\t\\tLanguage\\t\\tScore\\n'\n",
    "    for _k in range(k):\n",
    "        feature_name = ngram_vectorizer.get_feature_names()[feature_scores[_k][0]]\n",
    "        feature_score = feature_scores[_k][1]\n",
    "        feature_lang = get_ngram_lang(feature_name)\n",
    "        print feature_name, '\\t\\t', feature_lang, '\\t\\t', feature_score"
   ]
  },
  {
   "cell_type": "code",
   "execution_count": 95,
   "metadata": {
    "collapsed": false
   },
   "outputs": [
    {
     "name": "stdout",
     "output_type": "stream",
     "text": [
      "N-gram\t\tLanguage\t\tScore\n",
      "\n",
      "sch \t\tgerman \t\t38836.3506431\n",
      "lctr \t\tromanian \t\t31061.0611967\n",
      "dll \t\titalian \t\t29764.4322272\n",
      "ctr \t\tromanian \t\t22379.2642959\n",
      "tncm \t\tromanian \t\t22204.5065305\n",
      "lct \t\tromanian \t\t21856.7788511\n",
      "wrd \t\tcroatian \t\t21119.9679127\n",
      "czn \t\titalian \t\t20371.5284929\n",
      "tnc \t\tromanian \t\t18659.4226004\n",
      "ths \t\tenglish \t\t18110.8786345\n",
      "thr \t\tenglish \t\t17775.9516444\n",
      "tht \t\tenglish \t\t17708.1793179\n",
      "blgr \t\tromanian \t\t17673.5824438\n",
      "wdz \t\tdanish \t\t17409.8626416\n",
      "chn \t\tgerman \t\t16908.6401484\n",
      "scw \t\tdutch \t\t16859.263593\n",
      "prz \t\tpolish \t\t16352.9702822\n",
      "fth \t\tenglish \t\t15880.6260587\n",
      "pntr \t\tromanian \t\t15404.2819856\n",
      "rlr \t\tromanian \t\t14968.5369053\n"
     ]
    }
   ],
   "source": [
    "print_k_best(k=20)"
   ]
  },
  {
   "cell_type": "code",
   "execution_count": null,
   "metadata": {
    "collapsed": true
   },
   "outputs": [],
   "source": []
  }
 ],
 "metadata": {
  "kernelspec": {
   "display_name": "Python 2",
   "language": "python",
   "name": "python2"
  },
  "language_info": {
   "codemirror_mode": {
    "name": "ipython",
    "version": 2
   },
   "file_extension": ".py",
   "mimetype": "text/x-python",
   "name": "python",
   "nbconvert_exporter": "python",
   "pygments_lexer": "ipython2",
   "version": "2.7.13"
  }
 },
 "nbformat": 4,
 "nbformat_minor": 1
}
