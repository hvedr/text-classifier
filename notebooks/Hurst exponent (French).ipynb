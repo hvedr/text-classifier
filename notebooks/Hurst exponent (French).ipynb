{
 "cells": [
  {
   "cell_type": "code",
   "execution_count": 1,
   "metadata": {
    "collapsed": true
   },
   "outputs": [],
   "source": [
    "import pandas as pd\n",
    "import numpy as np\n",
    "import matplotlib.pylab as plt\n",
    "import seaborn as sns\n",
    "%matplotlib inline\n",
    "from textutils import TextProcessor"
   ]
  },
  {
   "cell_type": "code",
   "execution_count": 2,
   "metadata": {
    "collapsed": false
   },
   "outputs": [
    {
     "name": "stdout",
     "output_type": "stream",
     "text": [
      "Try to preprocess documents in wiki_data/french\n",
      "\t---> wiki_data/french/all.txt\n",
      "Files are successfully processed to wiki_data/french/processed\n",
      "CPU times: user 4min 45s, sys: 6.42 s, total: 4min 51s\n",
      "Wall time: 10min 14s\n"
     ]
    }
   ],
   "source": [
    "%time TextProcessor.preprocess_folder('wiki_data/french', lang='fr_con', join=False)"
   ]
  },
  {
   "cell_type": "code",
   "execution_count": 3,
   "metadata": {
    "collapsed": true
   },
   "outputs": [],
   "source": [
    "with open('wiki_data/french/processed/all.txt', 'r') as processed_file:\n",
    "    french_all = processed_file.read().replace('\\n', '')"
   ]
  },
  {
   "cell_type": "code",
   "execution_count": 12,
   "metadata": {
    "collapsed": false
   },
   "outputs": [
    {
     "name": "stdout",
     "output_type": "stream",
     "text": [
      "Длина документа: 185828887\n",
      "\n",
      "ntnmlltpljlsntnmlltnlmlnsllrtmrtlchtmllntchrstlprncpllngstfrnçsdsprmrsdcnnsddrgnbrbnnsflsdnntrdchtmllntchrlftsstdsscndrslcthdrdbnvlldmlnstdntlfcltdslttrsdprsprtrdlstntmmntlscrsdlshvtlssstglmntcxdmchlbrlcllgdfrnctdfrdnnddsssrlclprtqdshtstdslssrlstdsssrlcrsdgrmmrcmprqlcmpltprtrdprncnfrncsrlrnnnlstntsthsprldctrtslttrsrchrchssrlmpldgntfccstfnvxslvnlccplchrdgrmmrcmprcllgdfrnclcnscrsscrslhstrtlstrctrdslngsndrpnnslsccdlngstgstcrrrlttdlchrdrmnnlcldslngsrntlsscrtrdlsctdlngstqdprslstllcdmdsnscrptnstbllslttrsnlfrmttngnrtndlngstsfrnçsprmlsqlsmlbnvnstmrclchngrgsdmzlndrmrtntrlnsvgtlcntsnrjsphvndrsnsqljpnsntchrlshgnrntnmlltdvtdrgrlthsdjnplhnsrlsmntqdprvrbtcstlqdcvrtgstvgllmlnflncssncrtnnmbrdlngststrngrslglmnttlprmrdntfrlphnmndlgrmmtclstnlsrbnnmlltsrvllltrvldmlmnprrnnnvntqprrncmmncsntrvlvcmlltclccrtctdnslprmrdsdxthssdmlmnprrsvrcllqtrtdlpththmrqmlltffrsntdntlpnnnvllcttpqqlstrctrfrmlqdlldsrtncnsqncdrctdstrnsmssnrlnslldrgvrsltddlrltdnssncdrntftlsggrdbsrvrlsmcnsmsdntrdtnrlvvntctdtxtclssqlldqstcnsrsltrdn\n"
     ]
    }
   ],
   "source": [
    "print \"Длина документа: \" + str(len(french_all))\n",
    "print\n",
    "print french_all[:1000]"
   ]
  },
  {
   "cell_type": "code",
   "execution_count": 5,
   "metadata": {
    "collapsed": true
   },
   "outputs": [],
   "source": [
    "from textutils import TextUtils\n",
    "\n",
    "normalized_dict = TextUtils.get_normalized_dict (\n",
    "    TextUtils.get_n_gram_dict(french_all, 1, lang='fr_con')\n",
    ")\n",
    "ordered_dict = TextUtils.get_ordered_dict(normalized_dict, by='value', reverse=True)"
   ]
  },
  {
   "cell_type": "code",
   "execution_count": 13,
   "metadata": {
    "collapsed": true
   },
   "outputs": [],
   "source": [
    "def draw__ordered_dict(dct, size=(10, 8)):\n",
    "    non_zero_items = np.array(dct)[:,0]\n",
    "    non_zero_values = np.array(ordered_dict)[:,1].astype(np.float64)\n",
    "    \n",
    "    plt.figure(figsize=size)\n",
    "    ax = sns.barplot(x=non_zero_items, y=non_zero_values, color=\"#666699\")\n",
    "    \n",
    "    ax.set_ylabel('Probabilities')\n",
    "    ax.set_title('Text symbols distribution')\n",
    "    ax.set_xticklabels(non_zero_items)\n",
    "    \n",
    "    plt.show()"
   ]
  },
  {
   "cell_type": "code",
   "execution_count": 14,
   "metadata": {
    "collapsed": false
   },
   "outputs": [
    {
     "data": {
      "image/png": "[encoded data removed]",
      "text/plain": [
       "<matplotlib.figure.Figure at 0x1140096d0>"
      ]
     },
     "metadata": {},
     "output_type": "display_data"
    }
   ],
   "source": [
    "draw__ordered_dict(ordered_dict, (10, 5))"
   ]
  },
  {
   "cell_type": "markdown",
   "metadata": {},
   "source": [
    "#### Caculate Hurst values for 's' letter"
   ]
  },
  {
   "cell_type": "code",
   "execution_count": 15,
   "metadata": {
    "collapsed": true
   },
   "outputs": [],
   "source": [
    "from textutils import HurstExponent\n",
    "hurst = HurstExponent(french_all, 's')"
   ]
  },
  {
   "cell_type": "code",
   "execution_count": 16,
   "metadata": {
    "collapsed": false
   },
   "outputs": [
    {
     "data": {
      "text/plain": [
       "25879588"
      ]
     },
     "execution_count": 16,
     "metadata": {},
     "output_type": "execute_result"
    }
   ],
   "source": [
    "len(hurst.distances)"
   ]
  },
  {
   "cell_type": "code",
   "execution_count": 22,
   "metadata": {
    "collapsed": false
   },
   "outputs": [
    {
     "name": "stdout",
     "output_type": "stream",
     "text": [
      "CPU times: user 55min 45s, sys: 10.7 s, total: 55min 56s\n",
      "Wall time: 1h 32min 16s\n"
     ]
    }
   ],
   "source": [
    "%time hurst.calculate(10000)"
   ]
  },
  {
   "cell_type": "code",
   "execution_count": 23,
   "metadata": {
    "collapsed": false
   },
   "outputs": [
    {
     "data": {
      "text/plain": [
       "(array([   2.,    3.,    4.,   25.,   59.,  104.,  157.,  248.,  335.,\n",
       "         334.,  332.,  282.,  248.,  180.,  121.,   82.,   50.,   16.,\n",
       "          13.,    7.]),\n",
       " array([ 0.22224816,  0.25849559,  0.29474301,  0.33099044,  0.36723787,\n",
       "         0.4034853 ,  0.43973273,  0.47598016,  0.51222759,  0.54847501,\n",
       "         0.58472244,  0.62096987,  0.6572173 ,  0.69346473,  0.72971216,\n",
       "         0.76595959,  0.80220701,  0.83845444,  0.87470187,  0.9109493 ,\n",
       "         0.94719673]),\n",
       " <a list of 20 Patch objects>)"
      ]
     },
     "execution_count": 23,
     "metadata": {},
     "output_type": "execute_result"
    },
    {
     "data": {
      "image/png": "[encoded data removed]",
      "text/plain": [
       "<matplotlib.figure.Figure at 0x11f1d0a10>"
      ]
     },
     "metadata": {},
     "output_type": "display_data"
    }
   ],
   "source": [
    "plt.hist(hurst.hurst_values, 20)"
   ]
  },
  {
   "cell_type": "code",
   "execution_count": 24,
   "metadata": {
    "collapsed": true
   },
   "outputs": [],
   "source": [
    "with open('hurst_values/french.txt', 'w') as outfile:\n",
    "    for v in hurst.hurst_values:\n",
    "        outfile.write(str(v) + '\\n')"
   ]
  },
  {
   "cell_type": "code",
   "execution_count": null,
   "metadata": {
    "collapsed": true
   },
   "outputs": [],
   "source": []
  }
 ],
 "metadata": {
  "kernelspec": {
   "display_name": "Python 2",
   "language": "python",
   "name": "python2"
  },
  "language_info": {
   "codemirror_mode": {
    "name": "ipython",
    "version": 2
   },
   "file_extension": ".py",
   "mimetype": "text/x-python",
   "name": "python",
   "nbconvert_exporter": "python",
   "pygments_lexer": "ipython2",
   "version": "2.7.12"
  }
 },
 "nbformat": 4,
 "nbformat_minor": 1
}
